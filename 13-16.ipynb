{
 "cells": [
  {
   "cell_type": "code",
   "execution_count": 2,
   "metadata": {},
   "outputs": [
    {
     "data": {
      "text/html": [
       "<div>\n",
       "<style scoped>\n",
       "    .dataframe tbody tr th:only-of-type {\n",
       "        vertical-align: middle;\n",
       "    }\n",
       "\n",
       "    .dataframe tbody tr th {\n",
       "        vertical-align: top;\n",
       "    }\n",
       "\n",
       "    .dataframe thead th {\n",
       "        text-align: right;\n",
       "    }\n",
       "</style>\n",
       "<table border=\"1\" class=\"dataframe\">\n",
       "  <thead>\n",
       "    <tr style=\"text-align: right;\">\n",
       "      <th></th>\n",
       "      <th>Flowcfs</th>\n",
       "    </tr>\n",
       "    <tr>\n",
       "      <th>Year</th>\n",
       "      <th></th>\n",
       "    </tr>\n",
       "  </thead>\n",
       "  <tbody>\n",
       "    <tr>\n",
       "      <th>1941</th>\n",
       "      <td>369</td>\n",
       "    </tr>\n",
       "    <tr>\n",
       "      <th>1942</th>\n",
       "      <td>683</td>\n",
       "    </tr>\n",
       "    <tr>\n",
       "      <th>1943</th>\n",
       "      <td>923</td>\n",
       "    </tr>\n",
       "    <tr>\n",
       "      <th>1944</th>\n",
       "      <td>1193</td>\n",
       "    </tr>\n",
       "    <tr>\n",
       "      <th>1945</th>\n",
       "      <td>413</td>\n",
       "    </tr>\n",
       "    <tr>\n",
       "      <th>1946</th>\n",
       "      <td>1025</td>\n",
       "    </tr>\n",
       "    <tr>\n",
       "      <th>1947</th>\n",
       "      <td>894</td>\n",
       "    </tr>\n",
       "    <tr>\n",
       "      <th>1948</th>\n",
       "      <td>859</td>\n",
       "    </tr>\n",
       "    <tr>\n",
       "      <th>1949</th>\n",
       "      <td>1157</td>\n",
       "    </tr>\n",
       "    <tr>\n",
       "      <th>1950</th>\n",
       "      <td>524</td>\n",
       "    </tr>\n",
       "    <tr>\n",
       "      <th>1951</th>\n",
       "      <td>327</td>\n",
       "    </tr>\n",
       "    <tr>\n",
       "      <th>1952</th>\n",
       "      <td>574</td>\n",
       "    </tr>\n",
       "    <tr>\n",
       "      <th>1953</th>\n",
       "      <td>762</td>\n",
       "    </tr>\n",
       "    <tr>\n",
       "      <th>1954</th>\n",
       "      <td>578</td>\n",
       "    </tr>\n",
       "    <tr>\n",
       "      <th>1955</th>\n",
       "      <td>379</td>\n",
       "    </tr>\n",
       "    <tr>\n",
       "      <th>1956</th>\n",
       "      <td>374</td>\n",
       "    </tr>\n",
       "    <tr>\n",
       "      <th>1957</th>\n",
       "      <td>581</td>\n",
       "    </tr>\n",
       "    <tr>\n",
       "      <th>1958</th>\n",
       "      <td>581</td>\n",
       "    </tr>\n",
       "    <tr>\n",
       "      <th>1959</th>\n",
       "      <td>530</td>\n",
       "    </tr>\n",
       "    <tr>\n",
       "      <th>1960</th>\n",
       "      <td>929</td>\n",
       "    </tr>\n",
       "  </tbody>\n",
       "</table>\n",
       "</div>"
      ],
      "text/plain": [
       "      Flowcfs\n",
       "Year         \n",
       "1941      369\n",
       "1942      683\n",
       "1943      923\n",
       "1944     1193\n",
       "1945      413\n",
       "1946     1025\n",
       "1947      894\n",
       "1948      859\n",
       "1949     1157\n",
       "1950      524\n",
       "1951      327\n",
       "1952      574\n",
       "1953      762\n",
       "1954      578\n",
       "1955      379\n",
       "1956      374\n",
       "1957      581\n",
       "1958      581\n",
       "1959      530\n",
       "1960      929"
      ]
     },
     "execution_count": 2,
     "metadata": {},
     "output_type": "execute_result"
    }
   ],
   "source": [
    "import pandas as pd \n",
    "import numpy as np \n",
    "import matplotlib.pyplot as plt \n",
    "import scipy.stats as stats\n",
    "\n",
    "conecuh = pd.read_csv('Conecuh.csv')\n",
    "conecuh = conecuh.set_index('Year')\n",
    "conecuh"
   ]
  },
  {
   "cell_type": "markdown",
   "metadata": {},
   "source": [
    "#### (13) Test the null hypothesis that the median flow is 683 cfs. The alternate hypothesis is that is is less than 683, and alpha = 0.05"
   ]
  },
  {
   "cell_type": "code",
   "execution_count": 30,
   "metadata": {},
   "outputs": [
    {
     "name": "stdout",
     "output_type": "stream",
     "text": [
      "Sample median: 581.00\n",
      "Total non-zero differences: Flowcfs    19\n",
      "dtype: int64\n",
      "Test statistic: Flowcfs    11\n",
      "dtype: int64\n",
      "P-value [0.82035828]\n",
      "Fail to reject the null hypothesis.\n",
      "There is not sufficient evidence to conclude that the median is less than 683 cfs.\n"
     ]
    },
    {
     "name": "stderr",
     "output_type": "stream",
     "text": [
      "/home/anna/miniconda3/lib/python3.9/site-packages/numpy/core/fromnumeric.py:86: FutureWarning: The behavior of DataFrame.sum with axis=None is deprecated, in a future version this will reduce over both axes and return a scalar. To retain the old behavior, pass axis=0 (or do not pass axis)\n",
      "  return reduction(axis=axis, out=out, **passkwargs)\n"
     ]
    }
   ],
   "source": [
    "# 1) Choose the appropriate Test: this appears to be a sign test\n",
    "# 2) Establish the null and alternate hypotheses. Null, median = 683. Alternate, median < 683 \n",
    "# 3) Decide on an acceptable error rate α: 0.05\n",
    "# 4) Compute the test statistic from the data: Observed number of minus differences in the dataset \n",
    "null_median = 683\n",
    "alpha = 0.05\n",
    "concecuh = conecuh[conecuh!=683]\n",
    "\n",
    "differences = conecuh - null_median\n",
    "test_stat = np.sum(differences < 0)\n",
    "n_total = np.sum(differences !=0)\n",
    "p_value = stats.binom.cdf(test_stat, n_total, 0.5)\n",
    "\n",
    "print(f\"Sample median: {np.median(conecuh):.2f}\")\n",
    "print(f\"Total non-zero differences: {n_total}\")\n",
    "print(f\"Test statistic: {test_stat}\")\n",
    "print(f\"P-value\", p_value)\n",
    "\n",
    "\n",
    "if p_value < alpha:\n",
    "    print(\"There is sufficient evidence to conclude that the median is less than 683 cfs.\")\n",
    "else:\n",
    "    print(\"Fail to reject the null hypothesis.\")\n",
    "    print(\"There is not sufficient evidence to conclude that the median is less than 683 cfs.\")\n",
    "\n"
   ]
  },
  {
   "cell_type": "markdown",
   "metadata": {},
   "source": [
    "### (14) Unit well yields, in gallons per minute per foot of water-bearing material, were contrasted for wells within valleys containing fracturing versus valleys with no fracturing (Wright, 1985). For the PPCC test for normality, r(with)=0.943 and r(without)=0.805. Perform the appropriate α = 0.05 test to discern whether fracturing is associated with higher mean unit well yield"
   ]
  },
  {
   "cell_type": "code",
   "execution_count": 43,
   "metadata": {},
   "outputs": [
    {
     "name": "stdout",
     "output_type": "stream",
     "text": [
      "Test Statistic is: 112.5\n",
      "P Value is 0.0321518820119779\n",
      "Reject the null. The means are not equal, fracturing is associated with a higher mean unit well yield \n"
     ]
    }
   ],
   "source": [
    "# 1) Choose the appropriate Test: Rank-Sum test with large approximation, since n for both samples is > 10\n",
    "# 2) Establish the null and alternate hypotheses. Null: u1 = u2. Alternate, u1 > u2. The two books states these differently. Hesel states these in terms of probability, but they are pretty much saying the same thing \n",
    "# 3) Decide on an acceptable error rate α: 0.05\n",
    "# 4) Test Stat: Wilcoxon rank-sum test statistic \n",
    "yields_with = np.array([0.95, 0.72, 0.51, 0.44, 0.40, 0.30, 0.18, 0.16, 0.16, 0.13, 0.086, 0.031, 0.020])\n",
    "yields_without =np.array([1.02, 0.49, 0.454, 0.10, 0.077, 0.041, 0.040, 0.030, 0.020, 0.007, 0.003, 0.001])\n",
    "\n",
    "statistic, p_value = stats.mannwhitneyu(yields_with, yields_without, alternative='greater')\n",
    "print('Test Statistic is:', statistic)\n",
    "print('P Value is', p_value)\n",
    "if p_value < 0.05:\n",
    "    print('Reject the null. The means are not equal, fracturing is associated with a higher mean unit well yield ')"
   ]
  },
  {
   "cell_type": "code",
   "execution_count": null,
   "metadata": {},
   "outputs": [],
   "source": []
  }
 ],
 "metadata": {
  "kernelspec": {
   "display_name": "base",
   "language": "python",
   "name": "python3"
  },
  "language_info": {
   "codemirror_mode": {
    "name": "ipython",
    "version": 3
   },
   "file_extension": ".py",
   "mimetype": "text/x-python",
   "name": "python",
   "nbconvert_exporter": "python",
   "pygments_lexer": "ipython3",
   "version": "3.9.19"
  }
 },
 "nbformat": 4,
 "nbformat_minor": 2
}
