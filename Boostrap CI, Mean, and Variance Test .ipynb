{
 "cells": [
  {
   "cell_type": "code",
   "execution_count": 11,
   "metadata": {},
   "outputs": [
    {
     "data": {
      "text/html": [
       "<div>\n",
       "<style scoped>\n",
       "    .dataframe tbody tr th:only-of-type {\n",
       "        vertical-align: middle;\n",
       "    }\n",
       "\n",
       "    .dataframe tbody tr th {\n",
       "        vertical-align: top;\n",
       "    }\n",
       "\n",
       "    .dataframe thead th {\n",
       "        text-align: right;\n",
       "    }\n",
       "</style>\n",
       "<table border=\"1\" class=\"dataframe\">\n",
       "  <thead>\n",
       "    <tr style=\"text-align: right;\">\n",
       "      <th></th>\n",
       "      <th>Year</th>\n",
       "      <th>Rainfall</th>\n",
       "    </tr>\n",
       "  </thead>\n",
       "  <tbody>\n",
       "    <tr>\n",
       "      <th>0</th>\n",
       "      <td>1871</td>\n",
       "      <td>84.87</td>\n",
       "    </tr>\n",
       "    <tr>\n",
       "      <th>1</th>\n",
       "      <td>1872</td>\n",
       "      <td>91.36</td>\n",
       "    </tr>\n",
       "    <tr>\n",
       "      <th>2</th>\n",
       "      <td>1873</td>\n",
       "      <td>75.73</td>\n",
       "    </tr>\n",
       "    <tr>\n",
       "      <th>3</th>\n",
       "      <td>1874</td>\n",
       "      <td>97.45</td>\n",
       "    </tr>\n",
       "    <tr>\n",
       "      <th>4</th>\n",
       "      <td>1875</td>\n",
       "      <td>92.97</td>\n",
       "    </tr>\n",
       "    <tr>\n",
       "      <th>...</th>\n",
       "      <td>...</td>\n",
       "      <td>...</td>\n",
       "    </tr>\n",
       "    <tr>\n",
       "      <th>141</th>\n",
       "      <td>2012</td>\n",
       "      <td>80.51</td>\n",
       "    </tr>\n",
       "    <tr>\n",
       "      <th>142</th>\n",
       "      <td>2013</td>\n",
       "      <td>94.73</td>\n",
       "    </tr>\n",
       "    <tr>\n",
       "      <th>143</th>\n",
       "      <td>2014</td>\n",
       "      <td>73.64</td>\n",
       "    </tr>\n",
       "    <tr>\n",
       "      <th>144</th>\n",
       "      <td>2015</td>\n",
       "      <td>72.81</td>\n",
       "    </tr>\n",
       "    <tr>\n",
       "      <th>145</th>\n",
       "      <td>2016</td>\n",
       "      <td>84.49</td>\n",
       "    </tr>\n",
       "  </tbody>\n",
       "</table>\n",
       "<p>146 rows × 2 columns</p>\n",
       "</div>"
      ],
      "text/plain": [
       "     Year  Rainfall\n",
       "0    1871     84.87\n",
       "1    1872     91.36\n",
       "2    1873     75.73\n",
       "3    1874     97.45\n",
       "4    1875     92.97\n",
       "..    ...       ...\n",
       "141  2012     80.51\n",
       "142  2013     94.73\n",
       "143  2014     73.64\n",
       "144  2015     72.81\n",
       "145  2016     84.49\n",
       "\n",
       "[146 rows x 2 columns]"
      ]
     },
     "execution_count": 11,
     "metadata": {},
     "output_type": "execute_result"
    }
   ],
   "source": [
    "import pandas as pd\n",
    "import numpy as np\n",
    "from scipy import stats\n",
    "from scipy.stats import bootstrap\n",
    "import matplotlib.pyplot as plt \n",
    "import seaborn as sns\n",
    "\n",
    "monsoon_data = pd.read_csv('aismr-1871-2016-rain.txt', index_col=False, header=None, delim_whitespace=True)\n",
    "monsoon_data.columns = ['Year', 'Rainfall']\n",
    "monsoon_data"
   ]
  },
  {
   "cell_type": "code",
   "execution_count": 8,
   "metadata": {},
   "outputs": [
    {
     "data": {
      "image/png": "[encoded data removed]",
      "text/plain": [
       "<Figure size 640x480 with 1 Axes>"
      ]
     },
     "metadata": {},
     "output_type": "display_data"
    }
   ],
   "source": [
    "monsoon_data_array = np.array(monsoon_data['Rainfall'].values)\n",
    "\n",
    "stats.probplot(monsoon_data_array, dist=\"norm\", plot=plt)\n",
    "\n",
    "# Show the plot\n",
    "plt.title(\"Q-Q Plot\")\n",
    "plt.show()"
   ]
  },
  {
   "cell_type": "markdown",
   "metadata": {},
   "source": [
    "### (a) Compute the confidence interval for mean and variance on the monsoon data using bootstrap"
   ]
  },
  {
   "cell_type": "code",
   "execution_count": 12,
   "metadata": {},
   "outputs": [
    {
     "name": "stdout",
     "output_type": "stream",
     "text": [
      "95% CI on the mean for the monsoon data is: ConfidenceInterval(low=83.36177128971813, high=86.15681962757117)\n"
     ]
    }
   ],
   "source": [
    "conversion = (monsoon_data_array,) #converts the array for using scipy bootstrap \n",
    "conf_inter = bootstrap(conversion, np.mean, confidence_level=0.95, n_resamples=1000)\n",
    "print('95% CI on the mean for the monsoon data is:', conf_inter.confidence_interval)"
   ]
  },
  {
   "cell_type": "code",
   "execution_count": 13,
   "metadata": {},
   "outputs": [
    {
     "name": "stdout",
     "output_type": "stream",
     "text": [
      "95% CI on the variance for the monsoon data is: ConfidenceInterval(low=56.376115653131784, high=88.03285780609671)\n"
     ]
    }
   ],
   "source": [
    "conf_inter = bootstrap(conversion, np.var, confidence_level=0.95, n_resamples=1000)\n",
    "print('95% CI on the variance for the monsoon data is:', conf_inter.confidence_interval)\n"
   ]
  },
  {
   "cell_type": "markdown",
   "metadata": {},
   "source": [
    "#### A note - these methods are non-parametric, they use the percentiles from each bootstrap distribution"
   ]
  },
  {
   "cell_type": "markdown",
   "metadata": {},
   "source": [
    "### (B) Test the Difference in mean and variance of rainfall between pre-1980 and post - 1980"
   ]
  },
  {
   "cell_type": "code",
   "execution_count": 22,
   "metadata": {},
   "outputs": [],
   "source": [
    "pre1980 = monsoon_data[monsoon_data['Year'] < 1980]\n",
    "pre_array = pre1980['Rainfall'].values\n",
    "post1980 = monsoon_data[monsoon_data['Year'] >= 1980]\n",
    "post_array = post1980['Rainfall'].values"
   ]
  },
  {
   "cell_type": "markdown",
   "metadata": {},
   "source": [
    "#### Testing the Mean"
   ]
  },
  {
   "cell_type": "code",
   "execution_count": 26,
   "metadata": {},
   "outputs": [
    {
     "name": "stdout",
     "output_type": "stream",
     "text": [
      "1.4495242159437234 0.15196584154136858\n"
     ]
    }
   ],
   "source": [
    "#parameter of interest: difference in mean between pre and post 1980's rainfall data\n",
    "#Null: u1 - u2 = 0\n",
    "#Alternative hypothesis: u1 - u2 does not equal zero \n",
    "#test statistic is T0 = (D-Delta0)/SD / sqrt(n)\n",
    "#reject H0 if the p-value is <0.05\n",
    "t_statistic, p_value = stats.ttest_ind(pre_array, post_array, equal_var=False)\n",
    "print(t_statistic, p_value)"
   ]
  },
  {
   "cell_type": "markdown",
   "metadata": {},
   "source": [
    "#### Testing the Variance"
   ]
  },
  {
   "cell_type": "code",
   "execution_count": 28,
   "metadata": {},
   "outputs": [
    {
     "name": "stdout",
     "output_type": "stream",
     "text": [
      "p_value is 0.3560894889069144\n",
      "critical value upper for F is 0.6044490591295253\n",
      "critical value lower for F is 1.6543991340479751\n",
      "F_stat is 1.1211290429333036\n"
     ]
    }
   ],
   "source": [
    "var1 = np.var(pre_array, ddof = 1)\n",
    "var2 = np.var(post_array, ddof = 1)\n",
    "f_stat = var1 / var2\n",
    "f_stat\n",
    "df1 = len(pre_array) - 1\n",
    "df2 = len(post_array) - 1\n",
    "p_value = 1 - stats.f.cdf(f_stat, df1, df2)\n",
    "print('p_value is', p_value)\n",
    "f_critical_upper = stats.f.ppf( 0.025, df1, df2)\n",
    "print('critical value upper for F is',f_critical_upper)\n",
    "f_critical_lower = stats.f.ppf( 0.025, df1, df2)\n",
    "f_critical_lower = 1 / f_critical_lower\n",
    "print('critical value lower for F is',f_critical_lower)\n",
    "print('F_stat is', f_stat)"
   ]
  },
  {
   "cell_type": "markdown",
   "metadata": {},
   "source": [
    "### For both mean and variance, there is no significant difference between pre 1980 and post 1980 in rainfall "
   ]
  },
  {
   "cell_type": "markdown",
   "metadata": {},
   "source": []
  }
 ],
 "metadata": {
  "kernelspec": {
   "display_name": "base",
   "language": "python",
   "name": "python3"
  },
  "language_info": {
   "codemirror_mode": {
    "name": "ipython",
    "version": 3
   },
   "file_extension": ".py",
   "mimetype": "text/x-python",
   "name": "python",
   "nbconvert_exporter": "python",
   "pygments_lexer": "ipython3",
   "version": "3.9.18"
  }
 },
 "nbformat": 4,
 "nbformat_minor": 2
}
