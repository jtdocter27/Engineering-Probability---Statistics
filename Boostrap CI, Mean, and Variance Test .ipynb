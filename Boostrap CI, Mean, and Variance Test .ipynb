{
 "cells": [
  {
   "cell_type": "code",
   "execution_count": null,
   "metadata": {},
   "outputs": [
    {
     "name": "stderr",
     "output_type": "stream",
     "text": [
      "/tmp/ipykernel_33173/739873458.py:5: FutureWarning: The 'delim_whitespace' keyword in pd.read_csv is deprecated and will be removed in a future version. Use ``sep='\\s+'`` instead\n",
      "  monsoon_data = pd.read_csv('aismr-1871-2016-rain.txt', index_col=False, header=None, delim_whitespace=True)\n"
     ]
    }
   ],
   "source": [
    "import pandas as pd\n",
    "import numpy as np\n",
    "from scipy import stats\n",
    "\n",
    "monsoon_data = pd.read_csv('aismr-1871-2016-rain.txt', index_col=False, header=None, delim_whitespace=True)\n",
    "monsoon_data.columns = ['Year', 'Rainfall']"
   ]
  },
  {
   "cell_type": "code",
   "execution_count": 35,
   "metadata": {},
   "outputs": [
    {
     "data": {
      "text/html": [
       "<div>\n",
       "<style scoped>\n",
       "    .dataframe tbody tr th:only-of-type {\n",
       "        vertical-align: middle;\n",
       "    }\n",
       "\n",
       "    .dataframe tbody tr th {\n",
       "        vertical-align: top;\n",
       "    }\n",
       "\n",
       "    .dataframe thead th {\n",
       "        text-align: right;\n",
       "    }\n",
       "</style>\n",
       "<table border=\"1\" class=\"dataframe\">\n",
       "  <thead>\n",
       "    <tr style=\"text-align: right;\">\n",
       "      <th></th>\n",
       "      <th>Year</th>\n",
       "      <th>Rainfall</th>\n",
       "    </tr>\n",
       "  </thead>\n",
       "  <tbody>\n",
       "    <tr>\n",
       "      <th>0</th>\n",
       "      <td>1871</td>\n",
       "      <td>84.87</td>\n",
       "    </tr>\n",
       "    <tr>\n",
       "      <th>1</th>\n",
       "      <td>1872</td>\n",
       "      <td>91.36</td>\n",
       "    </tr>\n",
       "    <tr>\n",
       "      <th>2</th>\n",
       "      <td>1873</td>\n",
       "      <td>75.73</td>\n",
       "    </tr>\n",
       "    <tr>\n",
       "      <th>3</th>\n",
       "      <td>1874</td>\n",
       "      <td>97.45</td>\n",
       "    </tr>\n",
       "    <tr>\n",
       "      <th>4</th>\n",
       "      <td>1875</td>\n",
       "      <td>92.97</td>\n",
       "    </tr>\n",
       "    <tr>\n",
       "      <th>...</th>\n",
       "      <td>...</td>\n",
       "      <td>...</td>\n",
       "    </tr>\n",
       "    <tr>\n",
       "      <th>141</th>\n",
       "      <td>2012</td>\n",
       "      <td>80.51</td>\n",
       "    </tr>\n",
       "    <tr>\n",
       "      <th>142</th>\n",
       "      <td>2013</td>\n",
       "      <td>94.73</td>\n",
       "    </tr>\n",
       "    <tr>\n",
       "      <th>143</th>\n",
       "      <td>2014</td>\n",
       "      <td>73.64</td>\n",
       "    </tr>\n",
       "    <tr>\n",
       "      <th>144</th>\n",
       "      <td>2015</td>\n",
       "      <td>72.81</td>\n",
       "    </tr>\n",
       "    <tr>\n",
       "      <th>145</th>\n",
       "      <td>2016</td>\n",
       "      <td>84.49</td>\n",
       "    </tr>\n",
       "  </tbody>\n",
       "</table>\n",
       "<p>146 rows × 2 columns</p>\n",
       "</div>"
      ],
      "text/plain": [
       "     Year  Rainfall\n",
       "0    1871     84.87\n",
       "1    1872     91.36\n",
       "2    1873     75.73\n",
       "3    1874     97.45\n",
       "4    1875     92.97\n",
       "..    ...       ...\n",
       "141  2012     80.51\n",
       "142  2013     94.73\n",
       "143  2014     73.64\n",
       "144  2015     72.81\n",
       "145  2016     84.49\n",
       "\n",
       "[146 rows x 2 columns]"
      ]
     },
     "execution_count": 35,
     "metadata": {},
     "output_type": "execute_result"
    }
   ],
   "source": [
    "monsoon_data"
   ]
  },
  {
   "cell_type": "markdown",
   "metadata": {},
   "source": [
    "### (a) Compute the confidence interval for mean and variance on the monsoon data using bootstrap"
   ]
  },
  {
   "cell_type": "code",
   "execution_count": 41,
   "metadata": {},
   "outputs": [
    {
     "name": "stdout",
     "output_type": "stream",
     "text": [
      "[83.54442295 85.987     ]\n",
      "[54.72710935 84.961868  ]\n",
      "[84.67  87.565]\n"
     ]
    }
   ],
   "source": [
    "\n",
    "monsoon_array = monsoon_data['Rainfall'].values\n",
    "n = len(monsoon_data['Rainfall'].values)\n",
    "\n",
    "# Generate nsim bootstrap samples\n",
    "nsim = 500\n",
    "\n",
    "meansim = np.zeros(nsim)\n",
    "varsim = np.zeros(nsim)\n",
    "mediansim = np.zeros(nsim)\n",
    "\n",
    "for i in range(nsim):\n",
    "    xsamp = np.random.choice(monsoon_array, size=n, replace=True)\n",
    "    \n",
    "    meansim[i] = np.mean(xsamp)\n",
    "    varsim[i] = np.var(xsamp, ddof=1)  # ddof=1 for sample variance\n",
    "    mediansim[i] = np.median(xsamp)\n",
    "\n",
    "# Confidence interval on the population mean\n",
    "# assuming the data is Normally distributed\n",
    "alpha = 0.05  # confidence level\n",
    "alpha2 = alpha / 2\n",
    "\n",
    "print(np.quantile(meansim, [alpha2, 1-alpha2]))\n",
    "print(np.quantile(varsim, [alpha2, 1-alpha2]))\n",
    "print(np.quantile(mediansim, [alpha2, 1-alpha2]))"
   ]
  },
  {
   "cell_type": "code",
   "execution_count": null,
   "metadata": {},
   "outputs": [],
   "source": []
  }
 ],
 "metadata": {
  "kernelspec": {
   "display_name": "Python 3",
   "language": "python",
   "name": "python3"
  },
  "language_info": {
   "codemirror_mode": {
    "name": "ipython",
    "version": 3
   },
   "file_extension": ".py",
   "mimetype": "text/x-python",
   "name": "python",
   "nbconvert_exporter": "python",
   "pygments_lexer": "ipython3",
   "version": "3.9.19"
  }
 },
 "nbformat": 4,
 "nbformat_minor": 2
}
