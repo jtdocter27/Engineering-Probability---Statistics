{
 "cells": [
  {
   "cell_type": "code",
   "execution_count": 37,
   "metadata": {},
   "outputs": [],
   "source": [
    "import pandas as pd \n",
    "import numpy as np \n",
    "import matplotlib.pyplot as plt \n",
    "import scipy.stats as stats\n",
    "import seaborn as sns\n",
    "from statsmodels.stats.power import TTestPower"
   ]
  },
  {
   "cell_type": "markdown",
   "metadata": {},
   "source": [
    "### Problem 5"
   ]
  },
  {
   "cell_type": "code",
   "execution_count": 14,
   "metadata": {},
   "outputs": [],
   "source": [
    "suger_conc = np.array([11.48,11.50, 11.45,11.42, 11.48,11.49, 11.47,11.45, 11.48,11.44,11.45,11.50, 11.47,11.49, 11.46,11.45, 11.47,11.46, 11.43,11.47])"
   ]
  },
  {
   "cell_type": "markdown",
   "metadata": {},
   "source": [
    "#### (A) Test the hypothesis H0 = 11.5 vs. H1 does not = 11.5 using alpha = 0.05. Find the P-value"
   ]
  },
  {
   "cell_type": "code",
   "execution_count": 47,
   "metadata": {},
   "outputs": [
    {
     "name": "stdout",
     "output_type": "stream",
     "text": [
      "n is 20\n",
      "Sample Mean is 11.465500000000002\n",
      "Sample STD is, 0.021558061137310333\n"
     ]
    },
    {
     "data": {
      "text/plain": [
       "-7.156890847686181"
      ]
     },
     "execution_count": 47,
     "metadata": {},
     "output_type": "execute_result"
    }
   ],
   "source": [
    "#Paramter of Interet: Mean\n",
    "#Null Hypothesis: Stated in the problem \n",
    "#Alternate Hypothesis: Stated in the problem\n",
    "#Test Statistic: Tnaught as variance is unknown \n",
    "n = len(suger_conc)\n",
    "print('n is', n)\n",
    "sample_mean= suger_conc.mean()\n",
    "print('Sample Mean is', sample_mean)\n",
    "sample_std = suger_conc.std()\n",
    "print('Sample STD is,', sample_std)\n",
    "test = (sample_mean - 11.5) / (sample_std/(n**(1/2)))\n",
    "test #This is functionally a Z value - it will tell you your probability \n"
   ]
  },
  {
   "cell_type": "code",
   "execution_count": 27,
   "metadata": {},
   "outputs": [
    {
     "name": "stdout",
     "output_type": "stream",
     "text": [
      "p-value for t-value -7.156890847686181 with 19 degrees of freedom: 8.40795940660253e-07\n"
     ]
    }
   ],
   "source": [
    "df = 19  # Example degrees of freedom\n",
    "\n",
    "# Compute the cumulative probability for the given t-value (one-tailed)\n",
    "p_value = stats.t.cdf(test, df)\n",
    "\n",
    "p_value_two_tailed = 2 * p_value\n",
    "\n",
    "print(f\"p-value for t-value {test} with {df} degrees of freedom: {p_value_two_tailed}\")\n"
   ]
  },
  {
   "cell_type": "markdown",
   "metadata": {},
   "source": [
    "#### Our P-value is very, very small, assuredly smaller than the alpha value. That means that we can reject the null, the true mean is not 11.5. "
   ]
  },
  {
   "cell_type": "markdown",
   "metadata": {},
   "source": [
    "#### (B) Compute the power of the test if the true mean is 11.4"
   ]
  },
  {
   "cell_type": "code",
   "execution_count": 38,
   "metadata": {},
   "outputs": [
    {
     "name": "stdout",
     "output_type": "stream",
     "text": [
      "Power of the t-test: 1.0000\n"
     ]
    }
   ],
   "source": [
    "true_mean = 11.4\n",
    "null_mean = 11.5\n",
    "std = sample_std\n",
    "n = n\n",
    "df = n - 1\n",
    "alpha = 0.05\n",
    "t_critical = stats.t.ppf(1 - alpha / 2, df)  \n",
    "t_critical\n",
    "margin_of_error = t_critical * (std / np.sqrt(n))\n",
    "\n",
    "# Compute critical region boundaries\n",
    "lower_critical = null_mean - margin_of_error\n",
    "upper_critical = null_mean + margin_of_error\n",
    "\n",
    "# Calculate t-scores for true mean relative to critical boundaries\n",
    "t_lower = (lower_critical - true_mean) / (std / np.sqrt(n))\n",
    "t_upper = (upper_critical - true_mean) / (std / np.sqrt(n))\n",
    "\n",
    "# Power is the probability of rejecting the null under the true mean\n",
    "power = stats.t.cdf(t_lower, df) + (1 - stats.t.cdf(t_upper, df))\n",
    "\n",
    "\n",
    "print(f\"Power of the t-test: {power:.4f}\")\n"
   ]
  },
  {
   "cell_type": "code",
   "execution_count": 39,
   "metadata": {},
   "outputs": [
    {
     "name": "stdout",
     "output_type": "stream",
     "text": [
      "Power of the test: 1.0000\n"
     ]
    }
   ],
   "source": [
    "effect_size = (true_mean - null_mean) / std\n",
    "\n",
    "# Create a TTestPower instance\n",
    "power_analysis = TTestPower()\n",
    "\n",
    "# Calculate power\n",
    "power = power_analysis.power(effect_size=effect_size, nobs=n, alpha=alpha, alternative='two-sided')\n",
    "\n",
    "print(f\"Power of the test: {power:.4f}\")"
   ]
  },
  {
   "cell_type": "markdown",
   "metadata": {},
   "source": [
    "#### (C) What Sample Size would be required to detect a true mean sugar concentraion of 11.45 if we wanted the power of the test to be at least 0.9? "
   ]
  },
  {
   "cell_type": "code",
   "execution_count": 45,
   "metadata": {},
   "outputs": [
    {
     "name": "stdout",
     "output_type": "stream",
     "text": [
      "sample size is: 4.270165417242369\n"
     ]
    }
   ],
   "source": [
    "true_mean = 11.45\n",
    "effect_size = (true_mean - null_mean) / std\n",
    "sample_size = power_analysis.solve_power(effect_size=effect_size, power=0.9, alpha=0.05)\n",
    "print('sample size is:', sample_size)"
   ]
  },
  {
   "cell_type": "markdown",
   "metadata": {},
   "source": [
    "#### (D) Explain how the question in part (a) could be answered by constructing a two-sided confidence interval on the mean sugar concentration"
   ]
  },
  {
   "cell_type": "markdown",
   "metadata": {},
   "source": [
    "#### A two sided confidence interval calculates the range of possible values for a given parameter. Using an alpha of 0.05, we could calculate a 95% confidence interval and then see if the null value for the mean falls within that range. If it doesn't, we can reject it. If it does, we can accept it"
   ]
  },
  {
   "cell_type": "markdown",
   "metadata": {},
   "source": [
    "#### (E) Is ther evidence to support the assumption that the sugar concentraiton is normall distributed?"
   ]
  },
  {
   "cell_type": "code",
   "execution_count": 46,
   "metadata": {},
   "outputs": [
    {
     "data": {
      "image/png": "[encoded data removed]",
      "text/plain": [
       "<Figure size 640x480 with 1 Axes>"
      ]
     },
     "metadata": {},
     "output_type": "display_data"
    }
   ],
   "source": [
    "stats.probplot(suger_conc, dist=\"norm\", plot=plt)\n",
    "\n",
    "# Show the plot\n",
    "plt.title(\"Q-Q Plot\")\n",
    "plt.show()"
   ]
  },
  {
   "cell_type": "markdown",
   "metadata": {},
   "source": [
    "#### Yes, this appears to be normally distributed"
   ]
  },
  {
   "cell_type": "markdown",
   "metadata": {},
   "source": []
  }
 ],
 "metadata": {
  "kernelspec": {
   "display_name": "base",
   "language": "python",
   "name": "python3"
  },
  "language_info": {
   "codemirror_mode": {
    "name": "ipython",
    "version": 3
   },
   "file_extension": ".py",
   "mimetype": "text/x-python",
   "name": "python",
   "nbconvert_exporter": "python",
   "pygments_lexer": "ipython3",
   "version": "3.11.5"
  }
 },
 "nbformat": 4,
 "nbformat_minor": 2
}
