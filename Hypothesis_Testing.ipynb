{
 "cells": [
  {
   "cell_type": "code",
   "execution_count": 59,
   "metadata": {},
   "outputs": [],
   "source": [
    "import pandas as pd \n",
    "import numpy as np \n",
    "import matplotlib.pyplot as plt \n",
    "import scipy.stats as stats\n",
    "import seaborn as sns\n",
    "from statsmodels.stats.power import TTestPower\n",
    "from statsmodels.stats.proportion import proportions_ztest\n",
    "from scipy.stats import chi2, norm, chi2_contingency\n",
    "from statsmodels.stats.power import TTestIndPower"
   ]
  },
  {
   "cell_type": "markdown",
   "metadata": {},
   "source": [
    "### Problem 5"
   ]
  },
  {
   "cell_type": "code",
   "execution_count": 3,
   "metadata": {},
   "outputs": [],
   "source": [
    "suger_conc = np.array([11.48,11.50, 11.45,11.42, 11.48,11.49, 11.47,11.45, 11.48,11.44,11.45,11.50, 11.47,11.49, 11.46,11.45, 11.47,11.46, 11.43,11.47])"
   ]
  },
  {
   "cell_type": "markdown",
   "metadata": {},
   "source": [
    "#### (A) Test the hypothesis H0 = 11.5 vs. H1 does not = 11.5 using alpha = 0.05. Find the P-value"
   ]
  },
  {
   "cell_type": "code",
   "execution_count": 4,
   "metadata": {},
   "outputs": [
    {
     "name": "stdout",
     "output_type": "stream",
     "text": [
      "n is 20\n",
      "Sample Mean is 11.465500000000002\n",
      "Sample STD is, 0.021558061137310333\n"
     ]
    },
    {
     "data": {
      "text/plain": [
       "-7.156890847686181"
      ]
     },
     "execution_count": 4,
     "metadata": {},
     "output_type": "execute_result"
    }
   ],
   "source": [
    "#Paramter of Interet: Mean\n",
    "#Null Hypothesis: Stated in the problem \n",
    "#Alternate Hypothesis: Stated in the problem\n",
    "#Test Statistic: Tnaught as variance is unknown \n",
    "n = len(suger_conc)\n",
    "print('n is', n)\n",
    "sample_mean= suger_conc.mean()\n",
    "print('Sample Mean is', sample_mean)\n",
    "sample_std = suger_conc.std()\n",
    "print('Sample STD is,', sample_std)\n",
    "test = (sample_mean - 11.5) / (sample_std/(n**(1/2)))\n",
    "test #This is functionally a Z value - it will tell you your probability \n"
   ]
  },
  {
   "cell_type": "code",
   "execution_count": 5,
   "metadata": {},
   "outputs": [
    {
     "name": "stdout",
     "output_type": "stream",
     "text": [
      "p-value for t-value -7.156890847686181 with 19 degrees of freedom: 8.40795940660253e-07\n"
     ]
    }
   ],
   "source": [
    "df = 19  # Example degrees of freedom\n",
    "\n",
    "# Compute the cumulative probability for the given t-value (one-tailed)\n",
    "p_value = stats.t.cdf(test, df)\n",
    "\n",
    "p_value_two_tailed = 2 * p_value\n",
    "\n",
    "print(f\"p-value for t-value {test} with {df} degrees of freedom: {p_value_two_tailed}\")\n"
   ]
  },
  {
   "cell_type": "markdown",
   "metadata": {},
   "source": [
    "#### Our P-value is very, very small, assuredly smaller than the alpha value. That means that we can reject the null, the true mean is not 11.5. "
   ]
  },
  {
   "cell_type": "markdown",
   "metadata": {},
   "source": [
    "#### (B) Compute the power of the test if the true mean is 11.4"
   ]
  },
  {
   "cell_type": "code",
   "execution_count": 6,
   "metadata": {},
   "outputs": [
    {
     "name": "stdout",
     "output_type": "stream",
     "text": [
      "Power of the t-test: 1.0000\n"
     ]
    }
   ],
   "source": [
    "true_mean = 11.4\n",
    "null_mean = 11.5\n",
    "std = sample_std\n",
    "n = n\n",
    "df = n - 1\n",
    "alpha = 0.05\n",
    "t_critical = stats.t.ppf(1 - alpha / 2, df)  \n",
    "t_critical\n",
    "margin_of_error = t_critical * (std / np.sqrt(n))\n",
    "\n",
    "# Compute critical region boundaries\n",
    "lower_critical = null_mean - margin_of_error\n",
    "upper_critical = null_mean + margin_of_error\n",
    "\n",
    "# Calculate t-scores for true mean relative to critical boundaries\n",
    "t_lower = (lower_critical - true_mean) / (std / np.sqrt(n))\n",
    "t_upper = (upper_critical - true_mean) / (std / np.sqrt(n))\n",
    "\n",
    "# Power is the probability of rejecting the null under the true mean\n",
    "power = stats.t.cdf(t_lower, df) + (1 - stats.t.cdf(t_upper, df))\n",
    "\n",
    "\n",
    "print(f\"Power of the t-test: {power:.4f}\")\n"
   ]
  },
  {
   "cell_type": "code",
   "execution_count": 7,
   "metadata": {},
   "outputs": [
    {
     "name": "stdout",
     "output_type": "stream",
     "text": [
      "Power of the test: 1.0000\n"
     ]
    }
   ],
   "source": [
    "effect_size = (true_mean - null_mean) / std\n",
    "\n",
    "# Create a TTestPower instance\n",
    "power_analysis = TTestPower()\n",
    "\n",
    "# Calculate power\n",
    "power = power_analysis.power(effect_size=effect_size, nobs=n, alpha=alpha, alternative='two-sided')\n",
    "\n",
    "print(f\"Power of the test: {power:.4f}\")"
   ]
  },
  {
   "cell_type": "markdown",
   "metadata": {},
   "source": [
    "#### (C) What Sample Size would be required to detect a true mean sugar concentraion of 11.45 if we wanted the power of the test to be at least 0.9? "
   ]
  },
  {
   "cell_type": "code",
   "execution_count": 8,
   "metadata": {},
   "outputs": [
    {
     "name": "stdout",
     "output_type": "stream",
     "text": [
      "sample size is: 4.270165417242369\n"
     ]
    }
   ],
   "source": [
    "true_mean = 11.45\n",
    "effect_size = (true_mean - null_mean) / std\n",
    "sample_size = power_analysis.solve_power(effect_size=effect_size, power=0.9, alpha=0.05)\n",
    "print('sample size is:', sample_size)"
   ]
  },
  {
   "cell_type": "markdown",
   "metadata": {},
   "source": [
    "#### (D) Explain how the question in part (a) could be answered by constructing a two-sided confidence interval on the mean sugar concentration"
   ]
  },
  {
   "cell_type": "markdown",
   "metadata": {},
   "source": [
    "#### A two sided confidence interval calculates the range of possible values for a given parameter. Using an alpha of 0.05, we could calculate a 95% confidence interval and then see if the null value for the mean falls within that range. If it doesn't, we can reject it. If it does, we can accept it"
   ]
  },
  {
   "cell_type": "markdown",
   "metadata": {},
   "source": [
    "#### (E) Is ther evidence to support the assumption that the sugar concentraiton is normall distributed?"
   ]
  },
  {
   "cell_type": "code",
   "execution_count": 9,
   "metadata": {},
   "outputs": [
    {
     "data": {
      "image/png": "[encoded data removed]",
      "text/plain": [
       "<Figure size 640x480 with 1 Axes>"
      ]
     },
     "metadata": {},
     "output_type": "display_data"
    }
   ],
   "source": [
    "stats.probplot(suger_conc, dist=\"norm\", plot=plt)\n",
    "\n",
    "# Show the plot\n",
    "plt.title(\"Q-Q Plot\")\n",
    "plt.show()"
   ]
  },
  {
   "cell_type": "markdown",
   "metadata": {},
   "source": [
    "#### Yes, this appears to be normally distributed"
   ]
  },
  {
   "cell_type": "markdown",
   "metadata": {},
   "source": [
    "### Problem 6: A particular brand of diet margarine was analyzed to determine the level of polyunsaturated fatty acid (in percent- ages). A sample of six packages resulted in the following data: 16.8, 17.2, 17.4, 16.9, 16.5, 17.1."
   ]
  },
  {
   "cell_type": "markdown",
   "metadata": {},
   "source": [
    "#### (a) For the sample size n = 6, using a two-sided alternative hypothesis and alpha = 0.01, test H0: variance = 1.0 "
   ]
  },
  {
   "cell_type": "code",
   "execution_count": 10,
   "metadata": {},
   "outputs": [],
   "source": [
    "margarine =np.array([16.8, 17.2, 17.4, 16.9, 16.5, 17.1])\n",
    "n = 6\n",
    "alpha = 0.01\n",
    "std = margarine.std()\n",
    "null = 1.0"
   ]
  },
  {
   "cell_type": "code",
   "execution_count": 11,
   "metadata": {},
   "outputs": [
    {
     "name": "stdout",
     "output_type": "stream",
     "text": [
      "test_statistic is: 0.4236111111111102\n"
     ]
    }
   ],
   "source": [
    "#Parameter of interest : variance \n",
    "#Null hypothesis: H0 = 1.0\n",
    "#Alternate Hypothesis: Two-sided, so H1 does not equal 1.0 \n",
    "#Test statistics: X0^2 = ((n-1)s^2)/(Sigma)^2\n",
    "test_stat = ((n-1)*std**2) / null\n",
    "print('test_statistic is:', test_stat)\n",
    "\n"
   ]
  },
  {
   "cell_type": "code",
   "execution_count": 12,
   "metadata": {},
   "outputs": [
    {
     "name": "stdout",
     "output_type": "stream",
     "text": [
      "Lower Critical Value is: 0.41174190383249887\n",
      "Upper Critical Value is: 16.74960234363904\n"
     ]
    }
   ],
   "source": [
    "lower_critical_value = chi2.ppf(alpha /2, 5)\n",
    "print('Lower Critical Value is:', lower_critical_value)\n",
    "upper_critical_value = chi2.ppf(1-alpha /2, 5)\n",
    "print('Upper Critical Value is:', upper_critical_value)\n"
   ]
  },
  {
   "cell_type": "markdown",
   "metadata": {},
   "source": [
    "#### The test statistic, 0.423, is not less than the lower critical value. In other words, it is within the acceptance region for the given critical values. Ergo, we fail to reject the null\n"
   ]
  },
  {
   "cell_type": "markdown",
   "metadata": {},
   "source": [
    "#### (B) Suppose that instead of n = 6, the sample size was n = 51. Repeat the analysis performed in part (a) using n =  51."
   ]
  },
  {
   "cell_type": "code",
   "execution_count": 13,
   "metadata": {},
   "outputs": [
    {
     "name": "stdout",
     "output_type": "stream",
     "text": [
      "test_statistic is: 4.236111111111103\n",
      "Lower Critical Value is: 27.990748866373313\n",
      "Upper Critical Value is: 79.48997846682893\n"
     ]
    }
   ],
   "source": [
    "n = 51 \n",
    "test_stat = ((n-1)*std**2) / null\n",
    "print('test_statistic is:', test_stat)\n",
    "lower_critical_value = chi2.ppf(alpha /2, 50)\n",
    "print('Lower Critical Value is:', lower_critical_value)\n",
    "upper_critical_value = chi2.ppf(1-alpha /2, 50)\n",
    "print('Upper Critical Value is:', upper_critical_value)\n"
   ]
  },
  {
   "cell_type": "markdown",
   "metadata": {},
   "source": [
    "#### (C) Compare your answers and comment on how sample size affects your conclusions drawn in parts (a) and (b)."
   ]
  },
  {
   "cell_type": "markdown",
   "metadata": {},
   "source": [
    "##### With a larger sample size, the test statistic falls outside the critical values. Therefore, the conclusion from part A is not longer true - we reject the null, the variance does not equal one. "
   ]
  },
  {
   "cell_type": "markdown",
   "metadata": {},
   "source": [
    "### Problem 7: Consider the situation of Exercise 9-124. After collecting a sample, we are interested in testing H 0 : p = 0.10 versus H1: P does not equal0.10 with alpha = 0.05. For each of the following situations, compute the p-value for this test:"
   ]
  },
  {
   "cell_type": "code",
   "execution_count": 14,
   "metadata": {},
   "outputs": [
    {
     "name": "stdout",
     "output_type": "stream",
     "text": [
      "Test statistic is: -0.11785113019775793\n",
      "z_score is 0.45309280787746414\n",
      "The P-Value is: 0.9061856157549283\n"
     ]
    }
   ],
   "source": [
    "#A\n",
    "H0 = 0.1\n",
    "alpha = 0.05\n",
    "n = 50\n",
    "p = 0.095\n",
    "X = p*n #This is from 9-124. We want the number of defective items for the test statistic, not the proportion\n",
    "test_stat = (X-n*H0) / ((n*H0*(1-H0))**(1/2))\n",
    "print('Test statistic is:', test_stat)\n",
    "phi_z0 = norm.cdf(test_stat)\n",
    "print('z_score is', phi_z0)\n",
    "p_value = 2*phi_z0\n",
    "print('The P-Value is:', p_value)"
   ]
  },
  {
   "cell_type": "code",
   "execution_count": 15,
   "metadata": {},
   "outputs": [
    {
     "name": "stdout",
     "output_type": "stream",
     "text": [
      "Test statistic is: -0.16666666666666666\n",
      "z_score is 0.43381616738909634\n",
      "The P-Value is: 0.8676323347781927\n"
     ]
    }
   ],
   "source": [
    "#(B)\n",
    "H0 = 0.1\n",
    "alpha = 0.05\n",
    "n = 100\n",
    "p = 0.095\n",
    "X = p*n #This is from 9-124. We want the number of defective items for the test statistic, not the proportion\n",
    "test_stat = (X-n*H0) / ((n*H0*(1-H0))**(1/2))\n",
    "print('Test statistic is:', test_stat)\n",
    "phi_z0 = norm.cdf(test_stat)\n",
    "print('z_score is', phi_z0)\n",
    "p_value = 2*phi_z0\n",
    "print('The P-Value is:', p_value)"
   ]
  },
  {
   "cell_type": "code",
   "execution_count": 16,
   "metadata": {},
   "outputs": [
    {
     "name": "stdout",
     "output_type": "stream",
     "text": [
      "Test statistic is: -0.37267799624996495\n",
      "z_score is 0.35469405750711314\n",
      "The P-Value is: 0.7093881150142263\n"
     ]
    }
   ],
   "source": [
    "#(C)\n",
    "H0 = 0.1\n",
    "alpha = 0.05\n",
    "n = 500\n",
    "p = 0.095\n",
    "X = p*n #This is from 9-124. We want the number of defective items for the test statistic, not the proportion\n",
    "test_stat = (X-n*H0) / ((n*H0*(1-H0))**(1/2))\n",
    "print('Test statistic is:', test_stat)\n",
    "phi_z0 = norm.cdf(test_stat)\n",
    "print('z_score is', phi_z0)\n",
    "p_value = 2*phi_z0\n",
    "print('The P-Value is:', p_value)"
   ]
  },
  {
   "cell_type": "code",
   "execution_count": 17,
   "metadata": {},
   "outputs": [
    {
     "name": "stdout",
     "output_type": "stream",
     "text": [
      "Test statistic is: -0.5270462766947299\n",
      "z_score is 0.2990807263417641\n",
      "The P-Value is: 0.5981614526835282\n"
     ]
    }
   ],
   "source": [
    "#(D)\n",
    "H0 = 0.1\n",
    "alpha = 0.05\n",
    "n = 1000\n",
    "p = 0.095\n",
    "X = p*n #This is from 9-124. We want the number of defective items for the test statistic, not the proportion\n",
    "test_stat = (X-n*H0) / ((n*H0*(1-H0))**(1/2))\n",
    "print('Test statistic is:', test_stat)\n",
    "phi_z0 = norm.cdf(test_stat)\n",
    "print('z_score is', phi_z0)\n",
    "p_value = 2*phi_z0\n",
    "print('The P-Value is:', p_value)"
   ]
  },
  {
   "cell_type": "markdown",
   "metadata": {},
   "source": [
    "#### Observed P_value decreases as you increase sample size. The P-value is still large, so there is not strong evidence against the null, i.e. we fail to reject the null. \n",
    "\n"
   ]
  },
  {
   "cell_type": "markdown",
   "metadata": {},
   "source": [
    "### Problem 8"
   ]
  },
  {
   "cell_type": "markdown",
   "metadata": {},
   "source": [
    "#### Generating Expected Frequency Table"
   ]
  },
  {
   "cell_type": "code",
   "execution_count": 18,
   "metadata": {},
   "outputs": [],
   "source": [
    "i = ['A', 'B', 'C', 'Other']\n",
    "data = {'A': pd.Series([25, 17, 18, 10], index = [i]), 'B': pd.Series([6, 16, 4, 8], index = [i]), 'C': pd.Series([17, 15, 18, 11], index = [i]), 'Other': pd.Series([13, 6, 10, 20], index = [i])}\n",
    "grades_df = pd.DataFrame(data)"
   ]
  },
  {
   "cell_type": "code",
   "execution_count": 19,
   "metadata": {},
   "outputs": [
    {
     "data": {
      "text/html": [
       "<div>\n",
       "<style scoped>\n",
       "    .dataframe tbody tr th:only-of-type {\n",
       "        vertical-align: middle;\n",
       "    }\n",
       "\n",
       "    .dataframe tbody tr th {\n",
       "        vertical-align: top;\n",
       "    }\n",
       "\n",
       "    .dataframe thead th {\n",
       "        text-align: right;\n",
       "    }\n",
       "</style>\n",
       "<table border=\"1\" class=\"dataframe\">\n",
       "  <thead>\n",
       "    <tr style=\"text-align: right;\">\n",
       "      <th></th>\n",
       "      <th>A</th>\n",
       "      <th>B</th>\n",
       "      <th>C</th>\n",
       "      <th>Other</th>\n",
       "    </tr>\n",
       "  </thead>\n",
       "  <tbody>\n",
       "    <tr>\n",
       "      <th>A</th>\n",
       "      <td>25</td>\n",
       "      <td>6</td>\n",
       "      <td>17</td>\n",
       "      <td>13</td>\n",
       "    </tr>\n",
       "    <tr>\n",
       "      <th>B</th>\n",
       "      <td>17</td>\n",
       "      <td>16</td>\n",
       "      <td>15</td>\n",
       "      <td>6</td>\n",
       "    </tr>\n",
       "    <tr>\n",
       "      <th>C</th>\n",
       "      <td>18</td>\n",
       "      <td>4</td>\n",
       "      <td>18</td>\n",
       "      <td>10</td>\n",
       "    </tr>\n",
       "    <tr>\n",
       "      <th>Other</th>\n",
       "      <td>10</td>\n",
       "      <td>8</td>\n",
       "      <td>11</td>\n",
       "      <td>20</td>\n",
       "    </tr>\n",
       "  </tbody>\n",
       "</table>\n",
       "</div>"
      ],
      "text/plain": [
       "        A   B   C  Other\n",
       "A      25   6  17     13\n",
       "B      17  16  15      6\n",
       "C      18   4  18     10\n",
       "Other  10   8  11     20"
      ]
     },
     "execution_count": 19,
     "metadata": {},
     "output_type": "execute_result"
    }
   ],
   "source": [
    "grades_df"
   ]
  },
  {
   "cell_type": "code",
   "execution_count": 20,
   "metadata": {},
   "outputs": [
    {
     "name": "stdout",
     "output_type": "stream",
     "text": [
      "Row Sums A        61\n",
      "B        54\n",
      "C        50\n",
      "Other    49\n",
      "dtype: int64\n"
     ]
    }
   ],
   "source": [
    "#Finding Expected frequences\n",
    "r_sums = grades_df.sum(axis=1)\n",
    "print('Row Sums', r_sums)"
   ]
  },
  {
   "cell_type": "code",
   "execution_count": 21,
   "metadata": {},
   "outputs": [
    {
     "data": {
      "text/html": [
       "<div>\n",
       "<style scoped>\n",
       "    .dataframe tbody tr th:only-of-type {\n",
       "        vertical-align: middle;\n",
       "    }\n",
       "\n",
       "    .dataframe tbody tr th {\n",
       "        vertical-align: top;\n",
       "    }\n",
       "\n",
       "    .dataframe thead th {\n",
       "        text-align: right;\n",
       "    }\n",
       "</style>\n",
       "<table border=\"1\" class=\"dataframe\">\n",
       "  <thead>\n",
       "    <tr style=\"text-align: right;\">\n",
       "      <th></th>\n",
       "      <th>A</th>\n",
       "      <th>B</th>\n",
       "      <th>C</th>\n",
       "      <th>Other</th>\n",
       "      <th>Totals</th>\n",
       "    </tr>\n",
       "  </thead>\n",
       "  <tbody>\n",
       "    <tr>\n",
       "      <th>A</th>\n",
       "      <td>25</td>\n",
       "      <td>6</td>\n",
       "      <td>17</td>\n",
       "      <td>13</td>\n",
       "      <td>61</td>\n",
       "    </tr>\n",
       "    <tr>\n",
       "      <th>B</th>\n",
       "      <td>17</td>\n",
       "      <td>16</td>\n",
       "      <td>15</td>\n",
       "      <td>6</td>\n",
       "      <td>54</td>\n",
       "    </tr>\n",
       "    <tr>\n",
       "      <th>C</th>\n",
       "      <td>18</td>\n",
       "      <td>4</td>\n",
       "      <td>18</td>\n",
       "      <td>10</td>\n",
       "      <td>50</td>\n",
       "    </tr>\n",
       "    <tr>\n",
       "      <th>Other</th>\n",
       "      <td>10</td>\n",
       "      <td>8</td>\n",
       "      <td>11</td>\n",
       "      <td>20</td>\n",
       "      <td>49</td>\n",
       "    </tr>\n",
       "  </tbody>\n",
       "</table>\n",
       "</div>"
      ],
      "text/plain": [
       "        A   B   C  Other  Totals\n",
       "A      25   6  17     13      61\n",
       "B      17  16  15      6      54\n",
       "C      18   4  18     10      50\n",
       "Other  10   8  11     20      49"
      ]
     },
     "execution_count": 21,
     "metadata": {},
     "output_type": "execute_result"
    }
   ],
   "source": [
    "grades_df['Totals'] = r_sums.values\n",
    "grades_df"
   ]
  },
  {
   "cell_type": "code",
   "execution_count": 22,
   "metadata": {},
   "outputs": [
    {
     "data": {
      "text/html": [
       "<div>\n",
       "<style scoped>\n",
       "    .dataframe tbody tr th:only-of-type {\n",
       "        vertical-align: middle;\n",
       "    }\n",
       "\n",
       "    .dataframe tbody tr th {\n",
       "        vertical-align: top;\n",
       "    }\n",
       "\n",
       "    .dataframe thead th {\n",
       "        text-align: right;\n",
       "    }\n",
       "</style>\n",
       "<table border=\"1\" class=\"dataframe\">\n",
       "  <thead>\n",
       "    <tr style=\"text-align: right;\">\n",
       "      <th></th>\n",
       "      <th>A</th>\n",
       "      <th>B</th>\n",
       "      <th>C</th>\n",
       "      <th>Other</th>\n",
       "      <th>Totals</th>\n",
       "    </tr>\n",
       "  </thead>\n",
       "  <tbody>\n",
       "    <tr>\n",
       "      <th>A</th>\n",
       "      <td>25</td>\n",
       "      <td>6</td>\n",
       "      <td>17</td>\n",
       "      <td>13</td>\n",
       "      <td>61</td>\n",
       "    </tr>\n",
       "    <tr>\n",
       "      <th>B</th>\n",
       "      <td>17</td>\n",
       "      <td>16</td>\n",
       "      <td>15</td>\n",
       "      <td>6</td>\n",
       "      <td>54</td>\n",
       "    </tr>\n",
       "    <tr>\n",
       "      <th>C</th>\n",
       "      <td>18</td>\n",
       "      <td>4</td>\n",
       "      <td>18</td>\n",
       "      <td>10</td>\n",
       "      <td>50</td>\n",
       "    </tr>\n",
       "    <tr>\n",
       "      <th>Other</th>\n",
       "      <td>10</td>\n",
       "      <td>8</td>\n",
       "      <td>11</td>\n",
       "      <td>20</td>\n",
       "      <td>49</td>\n",
       "    </tr>\n",
       "  </tbody>\n",
       "</table>\n",
       "</div>"
      ],
      "text/plain": [
       "        A   B   C  Other  Totals\n",
       "A      25   6  17     13      61\n",
       "B      17  16  15      6      54\n",
       "C      18   4  18     10      50\n",
       "Other  10   8  11     20      49"
      ]
     },
     "execution_count": 22,
     "metadata": {},
     "output_type": "execute_result"
    }
   ],
   "source": [
    "c_sums = grades_df.sum(axis = 0)\n",
    "c_sums\n",
    "grades_df"
   ]
  },
  {
   "cell_type": "code",
   "execution_count": 23,
   "metadata": {},
   "outputs": [],
   "source": [
    "grades_df.loc['Totals'] = c_sums"
   ]
  },
  {
   "cell_type": "code",
   "execution_count": 24,
   "metadata": {},
   "outputs": [],
   "source": [
    "grades_df.index = ['A', 'B', 'C', 'Other', 'Totals'] #index got wonky, resetting it "
   ]
  },
  {
   "cell_type": "code",
   "execution_count": 25,
   "metadata": {},
   "outputs": [
    {
     "data": {
      "text/html": [
       "<div>\n",
       "<style scoped>\n",
       "    .dataframe tbody tr th:only-of-type {\n",
       "        vertical-align: middle;\n",
       "    }\n",
       "\n",
       "    .dataframe tbody tr th {\n",
       "        vertical-align: top;\n",
       "    }\n",
       "\n",
       "    .dataframe thead th {\n",
       "        text-align: right;\n",
       "    }\n",
       "</style>\n",
       "<table border=\"1\" class=\"dataframe\">\n",
       "  <thead>\n",
       "    <tr style=\"text-align: right;\">\n",
       "      <th></th>\n",
       "      <th>A</th>\n",
       "      <th>B</th>\n",
       "      <th>C</th>\n",
       "      <th>Other</th>\n",
       "      <th>Totals</th>\n",
       "    </tr>\n",
       "  </thead>\n",
       "  <tbody>\n",
       "    <tr>\n",
       "      <th>A</th>\n",
       "      <td>25</td>\n",
       "      <td>6</td>\n",
       "      <td>17</td>\n",
       "      <td>13</td>\n",
       "      <td>61</td>\n",
       "    </tr>\n",
       "    <tr>\n",
       "      <th>B</th>\n",
       "      <td>17</td>\n",
       "      <td>16</td>\n",
       "      <td>15</td>\n",
       "      <td>6</td>\n",
       "      <td>54</td>\n",
       "    </tr>\n",
       "    <tr>\n",
       "      <th>C</th>\n",
       "      <td>18</td>\n",
       "      <td>4</td>\n",
       "      <td>18</td>\n",
       "      <td>10</td>\n",
       "      <td>50</td>\n",
       "    </tr>\n",
       "    <tr>\n",
       "      <th>Other</th>\n",
       "      <td>10</td>\n",
       "      <td>8</td>\n",
       "      <td>11</td>\n",
       "      <td>20</td>\n",
       "      <td>49</td>\n",
       "    </tr>\n",
       "    <tr>\n",
       "      <th>Totals</th>\n",
       "      <td>70</td>\n",
       "      <td>34</td>\n",
       "      <td>61</td>\n",
       "      <td>49</td>\n",
       "      <td>214</td>\n",
       "    </tr>\n",
       "  </tbody>\n",
       "</table>\n",
       "</div>"
      ],
      "text/plain": [
       "         A   B   C  Other  Totals\n",
       "A       25   6  17     13      61\n",
       "B       17  16  15      6      54\n",
       "C       18   4  18     10      50\n",
       "Other   10   8  11     20      49\n",
       "Totals  70  34  61     49     214"
      ]
     },
     "execution_count": 25,
     "metadata": {},
     "output_type": "execute_result"
    }
   ],
   "source": [
    "grades_df"
   ]
  },
  {
   "cell_type": "code",
   "execution_count": 26,
   "metadata": {},
   "outputs": [
    {
     "name": "stdout",
     "output_type": "stream",
     "text": [
      "1.0\n"
     ]
    }
   ],
   "source": [
    "u1 = (grades_df['Totals'].iloc[0]) / 214\n",
    "u2 = (grades_df['Totals'].iloc[1]) / 214\n",
    "u3 = (grades_df['Totals'].iloc[2]) / 214\n",
    "u4 = (grades_df['Totals'].iloc[3]) / 214\n",
    "print(u1 + u2 + u3 +u4)\n"
   ]
  },
  {
   "cell_type": "code",
   "execution_count": 27,
   "metadata": {},
   "outputs": [
    {
     "name": "stdout",
     "output_type": "stream",
     "text": [
      "0.9999999999999999\n"
     ]
    }
   ],
   "source": [
    "v1 = (grades_df['A'].iloc[4]) / 214\n",
    "v2 = (grades_df['B'].iloc[4]) / 214\n",
    "v3 = (grades_df['C'].iloc[4]) / 214\n",
    "v4 = (grades_df['Other'].iloc[4]) / 214\n",
    "print (v1+ v2 +v3+v4)"
   ]
  },
  {
   "cell_type": "code",
   "execution_count": 28,
   "metadata": {},
   "outputs": [
    {
     "name": "stdout",
     "output_type": "stream",
     "text": [
      "[19.95327103  9.69158879 17.38785047 13.96728972]\n"
     ]
    }
   ],
   "source": [
    "E11 = 214*u1*v1\n",
    "E12 = 214*u1*v2\n",
    "E13 = 214*u1*v3\n",
    "E14 = 214*u1*v4\n",
    "row_a = np.array([E11, E12, E13, E14])\n",
    "\n",
    "print(row_a)\n",
    "E21 = 214*u2*v1\n",
    "E22 = 214*u2*v2\n",
    "E23 = 214*u2*v3\n",
    "E24 = 214*u2*v4\n",
    "row_b = np.array([E21, E22, E23, E24])\n",
    "\n",
    "E31 = 214*u3*v1\n",
    "E32 = 214*u3*v2\n",
    "E33 = 214*u3*v3\n",
    "E34 = 214*u3*v4\n",
    "row_c = np.array([E31, E32, E33, E34])\n",
    "\n",
    "E41 = 214*u4*v1\n",
    "E42 = 214*u4*v2\n",
    "E43 = 214*u4*v3\n",
    "E44 = 214*u4*v4\n",
    "row_Other = np.array([E41, E42, E43, E44])\n"
   ]
  },
  {
   "cell_type": "code",
   "execution_count": 29,
   "metadata": {},
   "outputs": [
    {
     "data": {
      "text/plain": [
       "A        70.0\n",
       "B        34.0\n",
       "C        61.0\n",
       "Other    49.0\n",
       "dtype: float64"
      ]
     },
     "execution_count": 29,
     "metadata": {},
     "output_type": "execute_result"
    }
   ],
   "source": [
    "expected_frequencies = pd.DataFrame([row_a, row_b, row_c, row_Other], columns=['A','B','C','Other'])\n",
    "expected_frequencies.index = ['A', 'B', 'C', 'Other']\n",
    "expected_frequencies.sum(axis=0) #It worked!!!!\n"
   ]
  },
  {
   "cell_type": "code",
   "execution_count": 30,
   "metadata": {},
   "outputs": [
    {
     "data": {
      "text/html": [
       "<div>\n",
       "<style scoped>\n",
       "    .dataframe tbody tr th:only-of-type {\n",
       "        vertical-align: middle;\n",
       "    }\n",
       "\n",
       "    .dataframe tbody tr th {\n",
       "        vertical-align: top;\n",
       "    }\n",
       "\n",
       "    .dataframe thead th {\n",
       "        text-align: right;\n",
       "    }\n",
       "</style>\n",
       "<table border=\"1\" class=\"dataframe\">\n",
       "  <thead>\n",
       "    <tr style=\"text-align: right;\">\n",
       "      <th></th>\n",
       "      <th>A</th>\n",
       "      <th>B</th>\n",
       "      <th>C</th>\n",
       "      <th>Other</th>\n",
       "    </tr>\n",
       "  </thead>\n",
       "  <tbody>\n",
       "    <tr>\n",
       "      <th>A</th>\n",
       "      <td>19.953271</td>\n",
       "      <td>9.691589</td>\n",
       "      <td>17.387850</td>\n",
       "      <td>13.967290</td>\n",
       "    </tr>\n",
       "    <tr>\n",
       "      <th>B</th>\n",
       "      <td>17.663551</td>\n",
       "      <td>8.579439</td>\n",
       "      <td>15.392523</td>\n",
       "      <td>12.364486</td>\n",
       "    </tr>\n",
       "    <tr>\n",
       "      <th>C</th>\n",
       "      <td>16.355140</td>\n",
       "      <td>7.943925</td>\n",
       "      <td>14.252336</td>\n",
       "      <td>11.448598</td>\n",
       "    </tr>\n",
       "    <tr>\n",
       "      <th>Other</th>\n",
       "      <td>16.028037</td>\n",
       "      <td>7.785047</td>\n",
       "      <td>13.967290</td>\n",
       "      <td>11.219626</td>\n",
       "    </tr>\n",
       "  </tbody>\n",
       "</table>\n",
       "</div>"
      ],
      "text/plain": [
       "               A         B          C      Other\n",
       "A      19.953271  9.691589  17.387850  13.967290\n",
       "B      17.663551  8.579439  15.392523  12.364486\n",
       "C      16.355140  7.943925  14.252336  11.448598\n",
       "Other  16.028037  7.785047  13.967290  11.219626"
      ]
     },
     "execution_count": 30,
     "metadata": {},
     "output_type": "execute_result"
    }
   ],
   "source": [
    "expected_frequencies"
   ]
  },
  {
   "cell_type": "code",
   "execution_count": 31,
   "metadata": {},
   "outputs": [],
   "source": [
    "#Parameter of Interest: Correlation between stats and operations research\n",
    "#Null hypothesis: Grades in statistics and operations research are independent \n",
    "#Alternative Hypothesis: Grades in statistics are related to grades in operations research \n",
    "#Test Stastic is Defined in the Text and so I will not define it here. \n",
    "alpha = 0.01\n",
    "r = 4\n",
    "c = 4\n",
    "df = (r-1)*(c-1)\n",
    "#Critical Value = 21.66 with alpha = 0.01 and 9 degrees of freedom"
   ]
  },
  {
   "cell_type": "markdown",
   "metadata": {},
   "source": [
    "#### Turns out, there's a package that will just do all this for you. Oh Well. At least I know I did it right"
   ]
  },
  {
   "cell_type": "code",
   "execution_count": 32,
   "metadata": {},
   "outputs": [
    {
     "name": "stdout",
     "output_type": "stream",
     "text": [
      "Test Statistic: 25.554529759357457\n",
      "p-value: 0.06062748378213728\n",
      "Expected Frequencies:\n",
      " [[ 19.95327103   9.69158879  17.38785047  13.96728972  61.        ]\n",
      " [ 17.6635514    8.57943925  15.39252336  12.36448598  54.        ]\n",
      " [ 16.35514019   7.94392523  14.25233645  11.44859813  50.        ]\n",
      " [ 16.02803738   7.78504673  13.96728972  11.21962617  49.        ]\n",
      " [ 70.          34.          61.          49.         214.        ]]\n"
     ]
    }
   ],
   "source": [
    "# Perform the Chi-Square test\n",
    "chi2, p, dof, expected = chi2_contingency(grades_df)\n",
    "\n",
    "# Output the results\n",
    "print(\"Test Statistic:\", chi2)\n",
    "print(\"p-value:\", p)\n",
    "print(\"Expected Frequencies:\\n\", expected)\n"
   ]
  },
  {
   "cell_type": "markdown",
   "metadata": {},
   "source": [
    "#### Test stat 25.55 > critical 21.66. Therefore, we reject the null, the grades are not independent, the grades are related"
   ]
  },
  {
   "cell_type": "markdown",
   "metadata": {},
   "source": [
    "### Problem 9"
   ]
  },
  {
   "cell_type": "code",
   "execution_count": 33,
   "metadata": {},
   "outputs": [],
   "source": [
    "vendor1 = np.array([96.8, 100.0, 99.6, 99.4, 99.7, 101.1, 99.4, 99.8, 98.6, 100.3, 98.5, 99.9, 101.1, 97.7, 98.6, 99.1, 99.6, 98.3, 103.7, 101.9, 101.2, 98.2,\n",
    "97.7, 101.0, 98.2])\n",
    "\n",
    "vendor2 = np.array([106.8, 106.8, 104.7, 104.7, 103.2, 103.7, 106.8, 105.1, 102.6, 100.3, 104.0, 107.0, 104.0, 106.3, 102.2, 102.8, 104.6, 103.5, 106.3, 109.2, 106.4, 106.8, 104.1, 107.1, 108.0, 104.0, 104.3, 104.2, 107.2, 107.7, 102.2, 106.2, 105.8, 103.4, 105.4])\n"
   ]
  },
  {
   "cell_type": "markdown",
   "metadata": {},
   "source": [
    "#### (A) Normality is needed to test the claim that variance from vendor1 is different from vendor 2. QQ plots show these two datasets are approximately normal"
   ]
  },
  {
   "cell_type": "code",
   "execution_count": 34,
   "metadata": {},
   "outputs": [
    {
     "data": {
      "image/png": "[encoded data removed]",
      "text/plain": [
       "<Figure size 640x480 with 1 Axes>"
      ]
     },
     "metadata": {},
     "output_type": "display_data"
    }
   ],
   "source": [
    "stats.probplot(vendor1, dist=\"norm\", plot=plt)\n",
    "\n",
    "# Show the plot\n",
    "plt.title(\"Q-Q Plot\")\n",
    "plt.show()"
   ]
  },
  {
   "cell_type": "code",
   "execution_count": 35,
   "metadata": {},
   "outputs": [
    {
     "data": {
      "image/png": "[encoded data removed]",
      "text/plain": [
       "<Figure size 640x480 with 1 Axes>"
      ]
     },
     "metadata": {},
     "output_type": "display_data"
    }
   ],
   "source": [
    "stats.probplot(vendor2, dist=\"norm\", plot=plt)\n",
    "\n",
    "# Show the plot\n",
    "plt.title(\"Q-Q Plot\")\n",
    "plt.show()"
   ]
  },
  {
   "cell_type": "markdown",
   "metadata": {},
   "source": [
    "#### (B) Perform an appropriate statistical hypothesis-testing procedure to determine whether the procurement specialist can claim that the variance of resistance of product from vendor 1 is significantly different from the variance of resistance of product from vendor 2."
   ]
  },
  {
   "cell_type": "code",
   "execution_count": 36,
   "metadata": {},
   "outputs": [],
   "source": [
    "#parameter of interest: variance of resistance of product from vendor 1 vs. vendor2\n",
    "#Null Hypothesis: resitance variance of 1 = resistor variance of 2\n",
    "#Alternate hypothesis: resistor variance of 1 does not equal resistor variance of 2\n",
    "#Test Statistic: f0 = variance 1/variance 2\n",
    "#No alpha value given, we'll assume an alpha of 0.05 \n",
    "var1 = np.var(vendor1, ddof = 1)\n",
    "var2 = np.var(vendor2, ddof = 1)"
   ]
  },
  {
   "cell_type": "code",
   "execution_count": 37,
   "metadata": {},
   "outputs": [
    {
     "data": {
      "text/plain": [
       "0.6069464565188306"
      ]
     },
     "execution_count": 37,
     "metadata": {},
     "output_type": "execute_result"
    }
   ],
   "source": [
    "f_stat = var1 / var2\n",
    "f_stat"
   ]
  },
  {
   "cell_type": "code",
   "execution_count": 38,
   "metadata": {},
   "outputs": [],
   "source": [
    "df1 = len(vendor1) - 1\n",
    "df2 = len(vendor2) - 1"
   ]
  },
  {
   "cell_type": "code",
   "execution_count": 39,
   "metadata": {},
   "outputs": [
    {
     "name": "stdout",
     "output_type": "stream",
     "text": [
      "p_value is 0.8973132385226638\n"
     ]
    }
   ],
   "source": [
    "p_value = 1 - stats.f.cdf(f_stat, df1, df2)\n",
    "print('p_value is', p_value)"
   ]
  },
  {
   "cell_type": "code",
   "execution_count": 40,
   "metadata": {},
   "outputs": [
    {
     "name": "stdout",
     "output_type": "stream",
     "text": [
      "critical value upper for F is 0.4587788693376701\n",
      "critical value lower for F is 2.17969934283085\n"
     ]
    }
   ],
   "source": [
    "f_critical_upper = stats.f.ppf( 0.025, df1, df2)\n",
    "print('critical value upper for F is',f_critical_upper)\n",
    "f_critical_lower = stats.f.ppf( 0.025, df1, df2)\n",
    "f_critical_lower = 1 / f_critical_lower\n",
    "print('critical value lower for F is',f_critical_lower)"
   ]
  },
  {
   "cell_type": "markdown",
   "metadata": {},
   "source": [
    "#### Because our test stat, .609, is between the critical values, and has such a high p-value, we cannot reject the null. Ergo, the variance of 1 is not significantly different from the variance of 2"
   ]
  },
  {
   "cell_type": "markdown",
   "metadata": {},
   "source": [
    "### Problem 10 (Hypothesis test on mean difference – paired test)"
   ]
  },
  {
   "cell_type": "code",
   "execution_count": 41,
   "metadata": {},
   "outputs": [
    {
     "data": {
      "text/html": [
       "<div>\n",
       "<style scoped>\n",
       "    .dataframe tbody tr th:only-of-type {\n",
       "        vertical-align: middle;\n",
       "    }\n",
       "\n",
       "    .dataframe tbody tr th {\n",
       "        vertical-align: top;\n",
       "    }\n",
       "\n",
       "    .dataframe thead th {\n",
       "        text-align: right;\n",
       "    }\n",
       "</style>\n",
       "<table border=\"1\" class=\"dataframe\">\n",
       "  <thead>\n",
       "    <tr style=\"text-align: right;\">\n",
       "      <th></th>\n",
       "      <th>Initial Weight</th>\n",
       "      <th>Final Weight</th>\n",
       "    </tr>\n",
       "  </thead>\n",
       "  <tbody>\n",
       "    <tr>\n",
       "      <th>0</th>\n",
       "      <td>165</td>\n",
       "      <td>161</td>\n",
       "    </tr>\n",
       "    <tr>\n",
       "      <th>1</th>\n",
       "      <td>201</td>\n",
       "      <td>195</td>\n",
       "    </tr>\n",
       "    <tr>\n",
       "      <th>2</th>\n",
       "      <td>195</td>\n",
       "      <td>192</td>\n",
       "    </tr>\n",
       "    <tr>\n",
       "      <th>3</th>\n",
       "      <td>198</td>\n",
       "      <td>193</td>\n",
       "    </tr>\n",
       "    <tr>\n",
       "      <th>4</th>\n",
       "      <td>155</td>\n",
       "      <td>150</td>\n",
       "    </tr>\n",
       "    <tr>\n",
       "      <th>5</th>\n",
       "      <td>143</td>\n",
       "      <td>141</td>\n",
       "    </tr>\n",
       "    <tr>\n",
       "      <th>6</th>\n",
       "      <td>150</td>\n",
       "      <td>146</td>\n",
       "    </tr>\n",
       "    <tr>\n",
       "      <th>7</th>\n",
       "      <td>187</td>\n",
       "      <td>183</td>\n",
       "    </tr>\n",
       "  </tbody>\n",
       "</table>\n",
       "</div>"
      ],
      "text/plain": [
       "   Initial Weight  Final Weight\n",
       "0             165           161\n",
       "1             201           195\n",
       "2             195           192\n",
       "3             198           193\n",
       "4             155           150\n",
       "5             143           141\n",
       "6             150           146\n",
       "7             187           183"
      ]
     },
     "execution_count": 41,
     "metadata": {},
     "output_type": "execute_result"
    }
   ],
   "source": [
    "weights = pd.DataFrame({'Initial Weight': [165, 201, 195, 198, 155, 143, 150, 187], 'Final Weight': [161, 195, 192, 193, 150, 141, 146, 183]})\n",
    "weights"
   ]
  },
  {
   "cell_type": "markdown",
   "metadata": {},
   "source": [
    "#### (A) Do the data support the claim of the producer (average weight loss is 3 pounds) of the dietary product with the probability of a type I error set to 0.05?"
   ]
  },
  {
   "cell_type": "code",
   "execution_count": 42,
   "metadata": {},
   "outputs": [
    {
     "name": "stdout",
     "output_type": "stream",
     "text": [
      "t_statistic is: 2.5528888301902897\n",
      "p_value is: 0.03794328796316367\n",
      "Reject the null, the data does not support the claim of the producer\n"
     ]
    }
   ],
   "source": [
    "#parameter of interest: difference in weight between initial and after using dietary liquid\n",
    "#Null: uD = 3\n",
    "#Alternative hypothesis: uD does not equal 3 \n",
    "#test statistic is T0 = (D-Delta0)/SD / sqrt(n)\n",
    "#reject H0if the p-value is <0.05\n",
    "differences = weights['Initial Weight'].values - weights['Final Weight'].values\n",
    "t_statistic, p_value = stats.ttest_1samp(differences, 3)\n",
    "print('t_statistic is:', t_statistic)\n",
    "print('p_value is:', p_value)\n",
    "if p_value < 0.05:\n",
    "    print('Reject the null, the data does not support the claim of the producer' )"
   ]
  },
  {
   "cell_type": "markdown",
   "metadata": {},
   "source": [
    "#### Yes, the data supports the claim. Very low p_value shows strong support for rejecting the null that there is no difference between the initial weight and the final weight "
   ]
  },
  {
   "cell_type": "markdown",
   "metadata": {},
   "source": [
    "#### (B)  Do the data support the claim of the producer of the dietary product with the probability of a type I error set to 0.01?"
   ]
  },
  {
   "cell_type": "code",
   "execution_count": 43,
   "metadata": {},
   "outputs": [
    {
     "name": "stdout",
     "output_type": "stream",
     "text": [
      "Accept the null. The data supports the claim of the producer at an error of 0.01\n"
     ]
    }
   ],
   "source": [
    "if p_value < 0.01:\n",
    "    print('reject the null, the data does support the claim of the product')\n",
    "else: \n",
    "    print('Accept the null. The data supports the claim of the producer at an error of 0.01')"
   ]
  },
  {
   "cell_type": "markdown",
   "metadata": {},
   "source": [
    "#### (C) In an effort to improve sales, the producer is considering changing its claim from “at least 3 pounds” to “at least 5 pounds.” Repeat parts (a) and (b) to test this new claim."
   ]
  },
  {
   "cell_type": "code",
   "execution_count": 44,
   "metadata": {},
   "outputs": [
    {
     "name": "stdout",
     "output_type": "stream",
     "text": [
      "t_statistic is: -1.9855802012591142\n",
      "p_value is: 0.08745934260808004\n",
      "Accept the null, the average weight loss is at least 5 pounds\n",
      "Accept the null, the average weight loss is at least 5 pounds\n"
     ]
    }
   ],
   "source": [
    "#parameter of interest: difference in weight between initial and after using dietary liquid\n",
    "#Null: uD = 5\n",
    "#Alternative hypothesis: uD does not equal 5\n",
    "#test statistic is T0 = (D-Delta0)/SD / sqrt(n)\n",
    "#reject H0if the p-value is <0.05\n",
    "differences = weights['Initial Weight'].values - weights['Final Weight'].values\n",
    "t_statistic, p_value = stats.ttest_1samp(differences, 5)\n",
    "print('t_statistic is:', t_statistic)\n",
    "print('p_value is:', p_value)\n",
    "if p_value < 0.05:\n",
    "    print('Reject the null, the data does not support the claim of the producer' )\n",
    "else:\n",
    "    print('Accept the null, the average weight loss is at least 5 pounds')\n",
    "if p_value < 0.01:\n",
    "    print('Reject the null, the data does not support the claim of the producer' )\n",
    "else:\n",
    "    print('Accept the null, the average weight loss is at least 5 pounds')"
   ]
  },
  {
   "cell_type": "markdown",
   "metadata": {},
   "source": [
    "### (11) Polio vaccine given to a placebo and normal group. Study was conducted double blind. \n"
   ]
  },
  {
   "cell_type": "code",
   "execution_count": 45,
   "metadata": {},
   "outputs": [],
   "source": [
    "n_placebo = 201, 299\n",
    "n_vaccine = 200,745\n",
    "placebo_observed = 110\n",
    "vaccine_observed = 33"
   ]
  },
  {
   "cell_type": "markdown",
   "metadata": {},
   "source": [
    "#### (a) Use a hypothesis-testing procedure to determine if the proportion of children in the two groups who contracted paralytic polio is statistically different. Use a probability of a type I error equal to 0.05."
   ]
  },
  {
   "cell_type": "code",
   "execution_count": 46,
   "metadata": {},
   "outputs": [
    {
     "name": "stdout",
     "output_type": "stream",
     "text": [
      "z_stat is 8.033154882861671\n",
      "p_value is 9.499761854365513e-16\n",
      "null is rejected - there is a statistical different between the populations due to the vaccine\n"
     ]
    }
   ],
   "source": [
    "#parameter of interest: effectiveness of polio vaccine \n",
    "#Null: p1 - p2 = 0 \n",
    "#Alternative hypothesis: p1 - p2 does not equal 0 \n",
    "#test statistic: Z for difference in proportions. It's a long equation, I'm not writing it. pg. 393 of the text \n",
    "#reject H0 if the p-value is <0.05\n",
    "successes = np.array([110, 33])\n",
    "total_patients =np.array([200,200])\n",
    "z_stat, p_value = proportions_ztest(count=successes, nobs=total_patients)\n",
    "print('z_stat is', z_stat)\n",
    "print('p_value is', p_value)\n",
    "if p_value < 0.05:\n",
    "    print('null is rejected - there is a statistical different between the populations due to the vaccine')\n",
    "else:\n",
    "    print('Failt to reject the null. There is no signiicant difference')"
   ]
  },
  {
   "cell_type": "markdown",
   "metadata": {},
   "source": [
    "\n",
    "#### (b) Repeat part (a) using a probability of a type I error equal to 0.01."
   ]
  },
  {
   "cell_type": "code",
   "execution_count": 47,
   "metadata": {},
   "outputs": [
    {
     "name": "stdout",
     "output_type": "stream",
     "text": [
      "null is rejected - there is a statistical different between the populations due to the vaccine\n"
     ]
    }
   ],
   "source": [
    "if p_value < 0.01:\n",
    "    print('null is rejected - there is a statistical different between the populations due to the vaccine')\n",
    "else:\n",
    "    print('Failt to reject the null. There is no signiicant difference')"
   ]
  },
  {
   "cell_type": "markdown",
   "metadata": {},
   "source": [
    "#### (c) Compare your conclusions from parts (a) and (b) and explain why they are the same or different."
   ]
  },
  {
   "cell_type": "markdown",
   "metadata": {},
   "source": [
    "#### They are the same. This is because the p_value is very, very low, meaning there is a strong statistical difference between the placebo and the vaccine groups. This makes sense, because the vaccine is effective"
   ]
  },
  {
   "cell_type": "markdown",
   "metadata": {},
   "source": [
    "### (12) "
   ]
  },
  {
   "cell_type": "code",
   "execution_count": 49,
   "metadata": {},
   "outputs": [],
   "source": [
    "Surface = np.array([3.74, 4.61, 4.00, 4.67, 4.87, 5.12, 4.52, 5.29, 5.74, 5.48])\n",
    "Bottom = np.array([5.44, 6.88, 5.37, 5.44, 5.03, 6.48, 3.89, 5.85, 6.85, 7.16])"
   ]
  },
  {
   "cell_type": "markdown",
   "metadata": {},
   "source": [
    "### (a) What assumptions are required to test the claim that mean HCB concentration is the same at both depths? "
   ]
  },
  {
   "cell_type": "code",
   "execution_count": 50,
   "metadata": {},
   "outputs": [],
   "source": [
    "#Normality has to be assumed. "
   ]
  },
  {
   "cell_type": "code",
   "execution_count": 51,
   "metadata": {},
   "outputs": [
    {
     "data": {
      "image/png": "[encoded data removed]",
      "text/plain": [
       "<Figure size 640x480 with 1 Axes>"
      ]
     },
     "metadata": {},
     "output_type": "display_data"
    }
   ],
   "source": [
    "stats.probplot(Surface, dist=\"norm\", plot=plt)\n",
    "\n",
    "# Show the plot\n",
    "plt.title(\"Q-Q Plot\")\n",
    "plt.show()"
   ]
  },
  {
   "cell_type": "code",
   "execution_count": 52,
   "metadata": {},
   "outputs": [
    {
     "data": {
      "image/png": "[encoded data removed]",
      "text/plain": [
       "<Figure size 640x480 with 1 Axes>"
      ]
     },
     "metadata": {},
     "output_type": "display_data"
    }
   ],
   "source": [
    "stats.probplot(Bottom, dist=\"norm\", plot=plt)\n",
    "\n",
    "# Show the plot\n",
    "plt.title(\"Q-Q Plot\")\n",
    "plt.show()"
   ]
  },
  {
   "cell_type": "markdown",
   "metadata": {},
   "source": [
    "#### (b) Apply an appropriate procedure to determine if the data support the claim in part a."
   ]
  },
  {
   "cell_type": "code",
   "execution_count": null,
   "metadata": {},
   "outputs": [],
   "source": [
    "#Parameter of Interest: The difference in the means between HCB concentrations of the surface and bottom of the Wolf River in Tenesee\n",
    "#Null: The means are equal, there is no difference, u1 - u2 = 0\n",
    "#Alt Hypothesis: u1 does not equal u2\n",
    "#test stat: t-statistic detailed on pg. 365 "
   ]
  },
  {
   "cell_type": "code",
   "execution_count": 58,
   "metadata": {},
   "outputs": [
    {
     "name": "stdout",
     "output_type": "stream",
     "text": [
      "Degrees of freedom = 15.067629250244075\n",
      "t_statistic = -2.7400167591564593\n",
      "P value is 0.015140406357785761\n",
      "Critical values are +- 2.131\n"
     ]
    }
   ],
   "source": [
    "t_statistic, p_value = stats.ttest_ind(Surface, Bottom, equal_var = False)\n",
    "\n",
    "s1_squared = np.var(Surface, ddof=1)\n",
    "s2_squared = np.var(Bottom, ddof=1)\n",
    "\n",
    "n1 = len(Surface)\n",
    "n2 = len(Bottom)\n",
    "\n",
    "numerator = (s1_squared / n1 + s2_squared / n2) ** 2\n",
    "denominator = ((s1_squared / n1) ** 2 / (n1 - 1)) + ((s2_squared / n2) ** 2 / (n2 - 1))\n",
    "\n",
    "# Calculate degrees of freedom\n",
    "dof = numerator / denominator\n",
    "\n",
    "print('Degrees of freedom =', dof)\n",
    "print('t_statistic =', t_statistic)\n",
    "print('P value is', p_value)\n",
    "print('Critical values are +- 2.131')\n"
   ]
  },
  {
   "cell_type": "markdown",
   "metadata": {},
   "source": [
    "#### Because -2.75 < -2.131, we reject the null. There is a significant difference between the means"
   ]
  },
  {
   "cell_type": "markdown",
   "metadata": {},
   "source": [
    "#### (C) "
   ]
  },
  {
   "cell_type": "code",
   "execution_count": null,
   "metadata": {},
   "outputs": [
    {
     "name": "stdout",
     "output_type": "stream",
     "text": [
      "Power of the test: 0.9995\n"
     ]
    }
   ],
   "source": [
    "delta = 2.0  # True difference in means\n",
    "sd1 = Surface.std()    # Standard deviation of group 1\n",
    "sd2 = Bottom.std()  # Standard deviation of group 2\n",
    "alpha = 0.05 # Significance level\n",
    "n1      # Sample size for group 1\n",
    "n2       # Sample size for group 2\n",
    "\n",
    "# Calculate effect size (Cohen's d)\n",
    "effect_size = delta / ((sd1**2 + sd2**2) / 2)**0.5\n",
    "\n",
    "# Calculate power\n",
    "power_analysis = TTestIndPower()\n",
    "power = power_analysis.solve_power(effect_size=effect_size, nobs1=n1, alpha=alpha, ratio=n2/n1, alternative='two-sided')\n",
    "\n",
    "print(f\"Power of the test: {power:.4f}\")\n"
   ]
  },
  {
   "cell_type": "markdown",
   "metadata": {},
   "source": [
    "### (D) What Sampe size would be required to detect a difference of 1.0 ng/L at alpha = 0.05 if the power must be at least 0.9?"
   ]
  },
  {
   "cell_type": "code",
   "execution_count": 68,
   "metadata": {},
   "outputs": [
    {
     "name": "stdout",
     "output_type": "stream",
     "text": [
      "Required sample size per group: 14.5244\n"
     ]
    }
   ],
   "source": [
    "power = 0.9\n",
    "delta = 1\n",
    "effect_size = delta / ((sd1**2 + sd2**2) / 2)**0.5\n",
    "\n",
    "sample_size = power_analysis.solve_power(effect_size=effect_size, power=power, alpha=alpha, ratio=1, alternative='two-sided')\n",
    "print(f\"Required sample size per group: {sample_size:.4f}\")"
   ]
  }
 ],
 "metadata": {
  "kernelspec": {
   "display_name": "base",
   "language": "python",
   "name": "python3"
  },
  "language_info": {
   "codemirror_mode": {
    "name": "ipython",
    "version": 3
   },
   "file_extension": ".py",
   "mimetype": "text/x-python",
   "name": "python",
   "nbconvert_exporter": "python",
   "pygments_lexer": "ipython3",
   "version": "3.9.18"
  }
 },
 "nbformat": 4,
 "nbformat_minor": 2
}
