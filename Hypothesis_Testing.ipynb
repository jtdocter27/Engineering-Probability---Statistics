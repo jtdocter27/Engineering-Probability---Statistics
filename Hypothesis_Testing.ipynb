{
 "cells": [
  {
   "cell_type": "code",
   "execution_count": 218,
   "metadata": {},
   "outputs": [],
   "source": [
    "import pandas as pd \n",
    "import numpy as np \n",
    "import matplotlib.pyplot as plt \n",
    "import scipy.stats as stats\n",
    "import seaborn as sns\n",
    "from statsmodels.stats.power import TTestPower\n",
    "from scipy.stats import chi2, norm, chi2_contingency"
   ]
  },
  {
   "cell_type": "markdown",
   "metadata": {},
   "source": [
    "### Problem 5"
   ]
  },
  {
   "cell_type": "code",
   "execution_count": 3,
   "metadata": {},
   "outputs": [],
   "source": [
    "suger_conc = np.array([11.48,11.50, 11.45,11.42, 11.48,11.49, 11.47,11.45, 11.48,11.44,11.45,11.50, 11.47,11.49, 11.46,11.45, 11.47,11.46, 11.43,11.47])"
   ]
  },
  {
   "cell_type": "markdown",
   "metadata": {},
   "source": [
    "#### (A) Test the hypothesis H0 = 11.5 vs. H1 does not = 11.5 using alpha = 0.05. Find the P-value"
   ]
  },
  {
   "cell_type": "code",
   "execution_count": 4,
   "metadata": {},
   "outputs": [
    {
     "name": "stdout",
     "output_type": "stream",
     "text": [
      "n is 20\n",
      "Sample Mean is 11.465500000000002\n",
      "Sample STD is, 0.021558061137310333\n"
     ]
    },
    {
     "data": {
      "text/plain": [
       "-7.156890847686181"
      ]
     },
     "execution_count": 4,
     "metadata": {},
     "output_type": "execute_result"
    }
   ],
   "source": [
    "#Paramter of Interet: Mean\n",
    "#Null Hypothesis: Stated in the problem \n",
    "#Alternate Hypothesis: Stated in the problem\n",
    "#Test Statistic: Tnaught as variance is unknown \n",
    "n = len(suger_conc)\n",
    "print('n is', n)\n",
    "sample_mean= suger_conc.mean()\n",
    "print('Sample Mean is', sample_mean)\n",
    "sample_std = suger_conc.std()\n",
    "print('Sample STD is,', sample_std)\n",
    "test = (sample_mean - 11.5) / (sample_std/(n**(1/2)))\n",
    "test #This is functionally a Z value - it will tell you your probability \n"
   ]
  },
  {
   "cell_type": "code",
   "execution_count": 5,
   "metadata": {},
   "outputs": [
    {
     "name": "stdout",
     "output_type": "stream",
     "text": [
      "p-value for t-value -7.156890847686181 with 19 degrees of freedom: 8.40795940660253e-07\n"
     ]
    }
   ],
   "source": [
    "df = 19  # Example degrees of freedom\n",
    "\n",
    "# Compute the cumulative probability for the given t-value (one-tailed)\n",
    "p_value = stats.t.cdf(test, df)\n",
    "\n",
    "p_value_two_tailed = 2 * p_value\n",
    "\n",
    "print(f\"p-value for t-value {test} with {df} degrees of freedom: {p_value_two_tailed}\")\n"
   ]
  },
  {
   "cell_type": "markdown",
   "metadata": {},
   "source": [
    "#### Our P-value is very, very small, assuredly smaller than the alpha value. That means that we can reject the null, the true mean is not 11.5. "
   ]
  },
  {
   "cell_type": "markdown",
   "metadata": {},
   "source": [
    "#### (B) Compute the power of the test if the true mean is 11.4"
   ]
  },
  {
   "cell_type": "code",
   "execution_count": 6,
   "metadata": {},
   "outputs": [
    {
     "name": "stdout",
     "output_type": "stream",
     "text": [
      "Power of the t-test: 1.0000\n"
     ]
    }
   ],
   "source": [
    "true_mean = 11.4\n",
    "null_mean = 11.5\n",
    "std = sample_std\n",
    "n = n\n",
    "df = n - 1\n",
    "alpha = 0.05\n",
    "t_critical = stats.t.ppf(1 - alpha / 2, df)  \n",
    "t_critical\n",
    "margin_of_error = t_critical * (std / np.sqrt(n))\n",
    "\n",
    "# Compute critical region boundaries\n",
    "lower_critical = null_mean - margin_of_error\n",
    "upper_critical = null_mean + margin_of_error\n",
    "\n",
    "# Calculate t-scores for true mean relative to critical boundaries\n",
    "t_lower = (lower_critical - true_mean) / (std / np.sqrt(n))\n",
    "t_upper = (upper_critical - true_mean) / (std / np.sqrt(n))\n",
    "\n",
    "# Power is the probability of rejecting the null under the true mean\n",
    "power = stats.t.cdf(t_lower, df) + (1 - stats.t.cdf(t_upper, df))\n",
    "\n",
    "\n",
    "print(f\"Power of the t-test: {power:.4f}\")\n"
   ]
  },
  {
   "cell_type": "code",
   "execution_count": 7,
   "metadata": {},
   "outputs": [
    {
     "name": "stdout",
     "output_type": "stream",
     "text": [
      "Power of the test: 1.0000\n"
     ]
    }
   ],
   "source": [
    "effect_size = (true_mean - null_mean) / std\n",
    "\n",
    "# Create a TTestPower instance\n",
    "power_analysis = TTestPower()\n",
    "\n",
    "# Calculate power\n",
    "power = power_analysis.power(effect_size=effect_size, nobs=n, alpha=alpha, alternative='two-sided')\n",
    "\n",
    "print(f\"Power of the test: {power:.4f}\")"
   ]
  },
  {
   "cell_type": "markdown",
   "metadata": {},
   "source": [
    "#### (C) What Sample Size would be required to detect a true mean sugar concentraion of 11.45 if we wanted the power of the test to be at least 0.9? "
   ]
  },
  {
   "cell_type": "code",
   "execution_count": 8,
   "metadata": {},
   "outputs": [
    {
     "name": "stdout",
     "output_type": "stream",
     "text": [
      "sample size is: 4.270165417242369\n"
     ]
    }
   ],
   "source": [
    "true_mean = 11.45\n",
    "effect_size = (true_mean - null_mean) / std\n",
    "sample_size = power_analysis.solve_power(effect_size=effect_size, power=0.9, alpha=0.05)\n",
    "print('sample size is:', sample_size)"
   ]
  },
  {
   "cell_type": "markdown",
   "metadata": {},
   "source": [
    "#### (D) Explain how the question in part (a) could be answered by constructing a two-sided confidence interval on the mean sugar concentration"
   ]
  },
  {
   "cell_type": "markdown",
   "metadata": {},
   "source": [
    "#### A two sided confidence interval calculates the range of possible values for a given parameter. Using an alpha of 0.05, we could calculate a 95% confidence interval and then see if the null value for the mean falls within that range. If it doesn't, we can reject it. If it does, we can accept it"
   ]
  },
  {
   "cell_type": "markdown",
   "metadata": {},
   "source": [
    "#### (E) Is ther evidence to support the assumption that the sugar concentraiton is normall distributed?"
   ]
  },
  {
   "cell_type": "code",
   "execution_count": 9,
   "metadata": {},
   "outputs": [
    {
     "data": {
      "image/png": "[encoded data removed]",
      "text/plain": [
       "<Figure size 640x480 with 1 Axes>"
      ]
     },
     "metadata": {},
     "output_type": "display_data"
    }
   ],
   "source": [
    "stats.probplot(suger_conc, dist=\"norm\", plot=plt)\n",
    "\n",
    "# Show the plot\n",
    "plt.title(\"Q-Q Plot\")\n",
    "plt.show()"
   ]
  },
  {
   "cell_type": "markdown",
   "metadata": {},
   "source": [
    "#### Yes, this appears to be normally distributed"
   ]
  },
  {
   "cell_type": "markdown",
   "metadata": {},
   "source": [
    "### Problem 6: A particular brand of diet margarine was analyzed to determine the level of polyunsaturated fatty acid (in percent- ages). A sample of six packages resulted in the following data: 16.8, 17.2, 17.4, 16.9, 16.5, 17.1."
   ]
  },
  {
   "cell_type": "markdown",
   "metadata": {},
   "source": [
    "#### (a) For the sample size n = 6, using a two-sided alternative hypothesis and alpha = 0.01, test H0: variance = 1.0 "
   ]
  },
  {
   "cell_type": "code",
   "execution_count": 10,
   "metadata": {},
   "outputs": [],
   "source": [
    "margarine =np.array([16.8, 17.2, 17.4, 16.9, 16.5, 17.1])\n",
    "n = 6\n",
    "alpha = 0.01\n",
    "std = margarine.std()\n",
    "null = 1.0"
   ]
  },
  {
   "cell_type": "code",
   "execution_count": 11,
   "metadata": {},
   "outputs": [
    {
     "name": "stdout",
     "output_type": "stream",
     "text": [
      "test_statistic is: 0.4236111111111102\n"
     ]
    }
   ],
   "source": [
    "#Parameter of interest : variance \n",
    "#Null hypothesis: H0 = 1.0\n",
    "#Alternate Hypothesis: Two-sided, so H1 does not equal 1.0 \n",
    "#Test statistics: X0^2 = ((n-1)s^2)/(Sigma)^2\n",
    "test_stat = ((n-1)*std**2) / null\n",
    "print('test_statistic is:', test_stat)\n",
    "\n"
   ]
  },
  {
   "cell_type": "code",
   "execution_count": 12,
   "metadata": {},
   "outputs": [
    {
     "name": "stdout",
     "output_type": "stream",
     "text": [
      "Lower Critical Value is: 0.41174190383249887\n",
      "Upper Critical Value is: 16.74960234363904\n"
     ]
    }
   ],
   "source": [
    "lower_critical_value = chi2.ppf(alpha /2, 5)\n",
    "print('Lower Critical Value is:', lower_critical_value)\n",
    "upper_critical_value = chi2.ppf(1-alpha /2, 5)\n",
    "print('Upper Critical Value is:', upper_critical_value)\n"
   ]
  },
  {
   "cell_type": "markdown",
   "metadata": {},
   "source": [
    "#### The test statistic, 0.423, is not less than the lower critical value. In other words, it is within the acceptance region for the given critical values. Ergo, we fail to reject the null\n"
   ]
  },
  {
   "cell_type": "markdown",
   "metadata": {},
   "source": [
    "#### (B) Suppose that instead of n = 6, the sample size was n = 51. Repeat the analysis performed in part (a) using n =  51."
   ]
  },
  {
   "cell_type": "code",
   "execution_count": 13,
   "metadata": {},
   "outputs": [
    {
     "name": "stdout",
     "output_type": "stream",
     "text": [
      "test_statistic is: 4.236111111111103\n",
      "Lower Critical Value is: 27.990748866373313\n",
      "Upper Critical Value is: 79.48997846682893\n"
     ]
    }
   ],
   "source": [
    "n = 51 \n",
    "test_stat = ((n-1)*std**2) / null\n",
    "print('test_statistic is:', test_stat)\n",
    "lower_critical_value = chi2.ppf(alpha /2, 50)\n",
    "print('Lower Critical Value is:', lower_critical_value)\n",
    "upper_critical_value = chi2.ppf(1-alpha /2, 50)\n",
    "print('Upper Critical Value is:', upper_critical_value)\n"
   ]
  },
  {
   "cell_type": "markdown",
   "metadata": {},
   "source": [
    "#### (C) Compare your answers and comment on how sample size affects your conclusions drawn in parts (a) and (b)."
   ]
  },
  {
   "cell_type": "markdown",
   "metadata": {},
   "source": [
    "##### With a larger sample size, the test statistic falls outside the critical values. Therefore, the conclusion from part A is not longer true - we reject the null, the variance does not equal one. "
   ]
  },
  {
   "cell_type": "markdown",
   "metadata": {},
   "source": [
    "### Problem 7: Consider the situation of Exercise 9-124. After collecting a sample, we are interested in testing H 0 : p = 0.10 versus H1: P does not equal0.10 with alpha = 0.05. For each of the following situations, compute the p-value for this test:"
   ]
  },
  {
   "cell_type": "code",
   "execution_count": 14,
   "metadata": {},
   "outputs": [
    {
     "name": "stdout",
     "output_type": "stream",
     "text": [
      "Test statistic is: -0.11785113019775793\n",
      "z_score is 0.45309280787746414\n",
      "The P-Value is: 0.9061856157549283\n"
     ]
    }
   ],
   "source": [
    "#A\n",
    "H0 = 0.1\n",
    "alpha = 0.05\n",
    "n = 50\n",
    "p = 0.095\n",
    "X = p*n #This is from 9-124. We want the number of defective items for the test statistic, not the proportion\n",
    "test_stat = (X-n*H0) / ((n*H0*(1-H0))**(1/2))\n",
    "print('Test statistic is:', test_stat)\n",
    "phi_z0 = norm.cdf(test_stat)\n",
    "print('z_score is', phi_z0)\n",
    "p_value = 2*phi_z0\n",
    "print('The P-Value is:', p_value)"
   ]
  },
  {
   "cell_type": "code",
   "execution_count": 15,
   "metadata": {},
   "outputs": [
    {
     "name": "stdout",
     "output_type": "stream",
     "text": [
      "Test statistic is: -0.16666666666666666\n",
      "z_score is 0.43381616738909634\n",
      "The P-Value is: 0.8676323347781927\n"
     ]
    }
   ],
   "source": [
    "#(B)\n",
    "H0 = 0.1\n",
    "alpha = 0.05\n",
    "n = 100\n",
    "p = 0.095\n",
    "X = p*n #This is from 9-124. We want the number of defective items for the test statistic, not the proportion\n",
    "test_stat = (X-n*H0) / ((n*H0*(1-H0))**(1/2))\n",
    "print('Test statistic is:', test_stat)\n",
    "phi_z0 = norm.cdf(test_stat)\n",
    "print('z_score is', phi_z0)\n",
    "p_value = 2*phi_z0\n",
    "print('The P-Value is:', p_value)"
   ]
  },
  {
   "cell_type": "code",
   "execution_count": 16,
   "metadata": {},
   "outputs": [
    {
     "name": "stdout",
     "output_type": "stream",
     "text": [
      "Test statistic is: -0.37267799624996495\n",
      "z_score is 0.35469405750711314\n",
      "The P-Value is: 0.7093881150142263\n"
     ]
    }
   ],
   "source": [
    "#(C)\n",
    "H0 = 0.1\n",
    "alpha = 0.05\n",
    "n = 500\n",
    "p = 0.095\n",
    "X = p*n #This is from 9-124. We want the number of defective items for the test statistic, not the proportion\n",
    "test_stat = (X-n*H0) / ((n*H0*(1-H0))**(1/2))\n",
    "print('Test statistic is:', test_stat)\n",
    "phi_z0 = norm.cdf(test_stat)\n",
    "print('z_score is', phi_z0)\n",
    "p_value = 2*phi_z0\n",
    "print('The P-Value is:', p_value)"
   ]
  },
  {
   "cell_type": "code",
   "execution_count": 17,
   "metadata": {},
   "outputs": [
    {
     "name": "stdout",
     "output_type": "stream",
     "text": [
      "Test statistic is: -0.5270462766947299\n",
      "z_score is 0.2990807263417641\n",
      "The P-Value is: 0.5981614526835282\n"
     ]
    }
   ],
   "source": [
    "#(D)\n",
    "H0 = 0.1\n",
    "alpha = 0.05\n",
    "n = 1000\n",
    "p = 0.095\n",
    "X = p*n #This is from 9-124. We want the number of defective items for the test statistic, not the proportion\n",
    "test_stat = (X-n*H0) / ((n*H0*(1-H0))**(1/2))\n",
    "print('Test statistic is:', test_stat)\n",
    "phi_z0 = norm.cdf(test_stat)\n",
    "print('z_score is', phi_z0)\n",
    "p_value = 2*phi_z0\n",
    "print('The P-Value is:', p_value)"
   ]
  },
  {
   "cell_type": "markdown",
   "metadata": {},
   "source": [
    "#### Observed P_value decreases as you increase sample size. The P-value is still large, so there is not strong evidence against the null, i.e. we fail to reject the null. \n",
    "\n"
   ]
  },
  {
   "cell_type": "markdown",
   "metadata": {},
   "source": [
    "### Problem 8"
   ]
  },
  {
   "cell_type": "markdown",
   "metadata": {},
   "source": [
    "#### Generating Expected Frequency Table"
   ]
  },
  {
   "cell_type": "code",
   "execution_count": 222,
   "metadata": {},
   "outputs": [],
   "source": [
    "i = ['A', 'B', 'C', 'Other']\n",
    "data = {'A': pd.Series([25, 17, 18, 10], index = [i]), 'B': pd.Series([6, 16, 4, 8], index = [i]), 'C': pd.Series([17, 15, 18, 11], index = [i]), 'Other': pd.Series([13, 6, 10, 20], index = [i])}\n",
    "grades_df = pd.DataFrame(data)"
   ]
  },
  {
   "cell_type": "code",
   "execution_count": 223,
   "metadata": {},
   "outputs": [
    {
     "data": {
      "text/html": [
       "<div>\n",
       "<style scoped>\n",
       "    .dataframe tbody tr th:only-of-type {\n",
       "        vertical-align: middle;\n",
       "    }\n",
       "\n",
       "    .dataframe tbody tr th {\n",
       "        vertical-align: top;\n",
       "    }\n",
       "\n",
       "    .dataframe thead th {\n",
       "        text-align: right;\n",
       "    }\n",
       "</style>\n",
       "<table border=\"1\" class=\"dataframe\">\n",
       "  <thead>\n",
       "    <tr style=\"text-align: right;\">\n",
       "      <th></th>\n",
       "      <th>A</th>\n",
       "      <th>B</th>\n",
       "      <th>C</th>\n",
       "      <th>Other</th>\n",
       "    </tr>\n",
       "  </thead>\n",
       "  <tbody>\n",
       "    <tr>\n",
       "      <th>A</th>\n",
       "      <td>25</td>\n",
       "      <td>6</td>\n",
       "      <td>17</td>\n",
       "      <td>13</td>\n",
       "    </tr>\n",
       "    <tr>\n",
       "      <th>B</th>\n",
       "      <td>17</td>\n",
       "      <td>16</td>\n",
       "      <td>15</td>\n",
       "      <td>6</td>\n",
       "    </tr>\n",
       "    <tr>\n",
       "      <th>C</th>\n",
       "      <td>18</td>\n",
       "      <td>4</td>\n",
       "      <td>18</td>\n",
       "      <td>10</td>\n",
       "    </tr>\n",
       "    <tr>\n",
       "      <th>Other</th>\n",
       "      <td>10</td>\n",
       "      <td>8</td>\n",
       "      <td>11</td>\n",
       "      <td>20</td>\n",
       "    </tr>\n",
       "  </tbody>\n",
       "</table>\n",
       "</div>"
      ],
      "text/plain": [
       "        A   B   C  Other\n",
       "A      25   6  17     13\n",
       "B      17  16  15      6\n",
       "C      18   4  18     10\n",
       "Other  10   8  11     20"
      ]
     },
     "execution_count": 223,
     "metadata": {},
     "output_type": "execute_result"
    }
   ],
   "source": [
    "grades_df"
   ]
  },
  {
   "cell_type": "code",
   "execution_count": 193,
   "metadata": {},
   "outputs": [
    {
     "name": "stdout",
     "output_type": "stream",
     "text": [
      "Row Sums A        61\n",
      "B        54\n",
      "C        50\n",
      "Other    49\n",
      "dtype: int64\n"
     ]
    }
   ],
   "source": [
    "#Finding Expected frequences\n",
    "r_sums = grades_df.sum(axis=1)\n",
    "print('Row Sums', r_sums)"
   ]
  },
  {
   "cell_type": "code",
   "execution_count": 194,
   "metadata": {},
   "outputs": [
    {
     "data": {
      "text/html": [
       "<div>\n",
       "<style scoped>\n",
       "    .dataframe tbody tr th:only-of-type {\n",
       "        vertical-align: middle;\n",
       "    }\n",
       "\n",
       "    .dataframe tbody tr th {\n",
       "        vertical-align: top;\n",
       "    }\n",
       "\n",
       "    .dataframe thead th {\n",
       "        text-align: right;\n",
       "    }\n",
       "</style>\n",
       "<table border=\"1\" class=\"dataframe\">\n",
       "  <thead>\n",
       "    <tr style=\"text-align: right;\">\n",
       "      <th></th>\n",
       "      <th>A</th>\n",
       "      <th>B</th>\n",
       "      <th>C</th>\n",
       "      <th>Other</th>\n",
       "      <th>Totals</th>\n",
       "    </tr>\n",
       "  </thead>\n",
       "  <tbody>\n",
       "    <tr>\n",
       "      <th>A</th>\n",
       "      <td>25</td>\n",
       "      <td>6</td>\n",
       "      <td>17</td>\n",
       "      <td>13</td>\n",
       "      <td>61</td>\n",
       "    </tr>\n",
       "    <tr>\n",
       "      <th>B</th>\n",
       "      <td>17</td>\n",
       "      <td>16</td>\n",
       "      <td>15</td>\n",
       "      <td>6</td>\n",
       "      <td>54</td>\n",
       "    </tr>\n",
       "    <tr>\n",
       "      <th>C</th>\n",
       "      <td>18</td>\n",
       "      <td>4</td>\n",
       "      <td>18</td>\n",
       "      <td>10</td>\n",
       "      <td>50</td>\n",
       "    </tr>\n",
       "    <tr>\n",
       "      <th>Other</th>\n",
       "      <td>10</td>\n",
       "      <td>8</td>\n",
       "      <td>11</td>\n",
       "      <td>20</td>\n",
       "      <td>49</td>\n",
       "    </tr>\n",
       "  </tbody>\n",
       "</table>\n",
       "</div>"
      ],
      "text/plain": [
       "        A   B   C  Other  Totals\n",
       "A      25   6  17     13      61\n",
       "B      17  16  15      6      54\n",
       "C      18   4  18     10      50\n",
       "Other  10   8  11     20      49"
      ]
     },
     "execution_count": 194,
     "metadata": {},
     "output_type": "execute_result"
    }
   ],
   "source": [
    "grades_df['Totals'] = r_sums.values\n",
    "grades_df"
   ]
  },
  {
   "cell_type": "code",
   "execution_count": 221,
   "metadata": {},
   "outputs": [
    {
     "data": {
      "text/html": [
       "<div>\n",
       "<style scoped>\n",
       "    .dataframe tbody tr th:only-of-type {\n",
       "        vertical-align: middle;\n",
       "    }\n",
       "\n",
       "    .dataframe tbody tr th {\n",
       "        vertical-align: top;\n",
       "    }\n",
       "\n",
       "    .dataframe thead th {\n",
       "        text-align: right;\n",
       "    }\n",
       "</style>\n",
       "<table border=\"1\" class=\"dataframe\">\n",
       "  <thead>\n",
       "    <tr style=\"text-align: right;\">\n",
       "      <th></th>\n",
       "      <th>A</th>\n",
       "      <th>B</th>\n",
       "      <th>C</th>\n",
       "      <th>Other</th>\n",
       "      <th>Totals</th>\n",
       "    </tr>\n",
       "  </thead>\n",
       "  <tbody>\n",
       "    <tr>\n",
       "      <th>A</th>\n",
       "      <td>25</td>\n",
       "      <td>6</td>\n",
       "      <td>17</td>\n",
       "      <td>13</td>\n",
       "      <td>61</td>\n",
       "    </tr>\n",
       "    <tr>\n",
       "      <th>B</th>\n",
       "      <td>17</td>\n",
       "      <td>16</td>\n",
       "      <td>15</td>\n",
       "      <td>6</td>\n",
       "      <td>54</td>\n",
       "    </tr>\n",
       "    <tr>\n",
       "      <th>C</th>\n",
       "      <td>18</td>\n",
       "      <td>4</td>\n",
       "      <td>18</td>\n",
       "      <td>10</td>\n",
       "      <td>50</td>\n",
       "    </tr>\n",
       "    <tr>\n",
       "      <th>Other</th>\n",
       "      <td>10</td>\n",
       "      <td>8</td>\n",
       "      <td>11</td>\n",
       "      <td>20</td>\n",
       "      <td>49</td>\n",
       "    </tr>\n",
       "    <tr>\n",
       "      <th>Totals</th>\n",
       "      <td>70</td>\n",
       "      <td>34</td>\n",
       "      <td>61</td>\n",
       "      <td>49</td>\n",
       "      <td>214</td>\n",
       "    </tr>\n",
       "  </tbody>\n",
       "</table>\n",
       "</div>"
      ],
      "text/plain": [
       "         A   B   C  Other  Totals\n",
       "A       25   6  17     13      61\n",
       "B       17  16  15      6      54\n",
       "C       18   4  18     10      50\n",
       "Other   10   8  11     20      49\n",
       "Totals  70  34  61     49     214"
      ]
     },
     "execution_count": 221,
     "metadata": {},
     "output_type": "execute_result"
    }
   ],
   "source": [
    "c_sums = grades_df.sum(axis = 0)\n",
    "c_sums\n",
    "grades_df"
   ]
  },
  {
   "cell_type": "code",
   "execution_count": null,
   "metadata": {},
   "outputs": [],
   "source": [
    "grades_df.loc['Totals'] = c_sums"
   ]
  },
  {
   "cell_type": "code",
   "execution_count": 197,
   "metadata": {},
   "outputs": [],
   "source": [
    "grades_df.index = ['A', 'B', 'C', 'Other', 'Totals'] #index got wonky, resetting it "
   ]
  },
  {
   "cell_type": "code",
   "execution_count": 198,
   "metadata": {},
   "outputs": [
    {
     "data": {
      "text/html": [
       "<div>\n",
       "<style scoped>\n",
       "    .dataframe tbody tr th:only-of-type {\n",
       "        vertical-align: middle;\n",
       "    }\n",
       "\n",
       "    .dataframe tbody tr th {\n",
       "        vertical-align: top;\n",
       "    }\n",
       "\n",
       "    .dataframe thead th {\n",
       "        text-align: right;\n",
       "    }\n",
       "</style>\n",
       "<table border=\"1\" class=\"dataframe\">\n",
       "  <thead>\n",
       "    <tr style=\"text-align: right;\">\n",
       "      <th></th>\n",
       "      <th>A</th>\n",
       "      <th>B</th>\n",
       "      <th>C</th>\n",
       "      <th>Other</th>\n",
       "      <th>Totals</th>\n",
       "    </tr>\n",
       "  </thead>\n",
       "  <tbody>\n",
       "    <tr>\n",
       "      <th>A</th>\n",
       "      <td>25</td>\n",
       "      <td>6</td>\n",
       "      <td>17</td>\n",
       "      <td>13</td>\n",
       "      <td>61</td>\n",
       "    </tr>\n",
       "    <tr>\n",
       "      <th>B</th>\n",
       "      <td>17</td>\n",
       "      <td>16</td>\n",
       "      <td>15</td>\n",
       "      <td>6</td>\n",
       "      <td>54</td>\n",
       "    </tr>\n",
       "    <tr>\n",
       "      <th>C</th>\n",
       "      <td>18</td>\n",
       "      <td>4</td>\n",
       "      <td>18</td>\n",
       "      <td>10</td>\n",
       "      <td>50</td>\n",
       "    </tr>\n",
       "    <tr>\n",
       "      <th>Other</th>\n",
       "      <td>10</td>\n",
       "      <td>8</td>\n",
       "      <td>11</td>\n",
       "      <td>20</td>\n",
       "      <td>49</td>\n",
       "    </tr>\n",
       "    <tr>\n",
       "      <th>Totals</th>\n",
       "      <td>70</td>\n",
       "      <td>34</td>\n",
       "      <td>61</td>\n",
       "      <td>49</td>\n",
       "      <td>214</td>\n",
       "    </tr>\n",
       "  </tbody>\n",
       "</table>\n",
       "</div>"
      ],
      "text/plain": [
       "         A   B   C  Other  Totals\n",
       "A       25   6  17     13      61\n",
       "B       17  16  15      6      54\n",
       "C       18   4  18     10      50\n",
       "Other   10   8  11     20      49\n",
       "Totals  70  34  61     49     214"
      ]
     },
     "execution_count": 198,
     "metadata": {},
     "output_type": "execute_result"
    }
   ],
   "source": [
    "grades_df"
   ]
  },
  {
   "cell_type": "code",
   "execution_count": 205,
   "metadata": {},
   "outputs": [
    {
     "name": "stdout",
     "output_type": "stream",
     "text": [
      "1.0\n"
     ]
    }
   ],
   "source": [
    "u1 = (grades_df['Totals'].iloc[0]) / 214\n",
    "u2 = (grades_df['Totals'].iloc[1]) / 214\n",
    "u3 = (grades_df['Totals'].iloc[2]) / 214\n",
    "u4 = (grades_df['Totals'].iloc[3]) / 214\n",
    "print(u1 + u2 + u3 +u4)\n"
   ]
  },
  {
   "cell_type": "code",
   "execution_count": 206,
   "metadata": {},
   "outputs": [
    {
     "name": "stdout",
     "output_type": "stream",
     "text": [
      "0.9999999999999999\n"
     ]
    }
   ],
   "source": [
    "v1 = (grades_df['A'].iloc[4]) / 214\n",
    "v2 = (grades_df['B'].iloc[4]) / 214\n",
    "v3 = (grades_df['C'].iloc[4]) / 214\n",
    "v4 = (grades_df['Other'].iloc[4]) / 214\n",
    "print (v1+ v2 +v3+v4)"
   ]
  },
  {
   "cell_type": "code",
   "execution_count": 201,
   "metadata": {},
   "outputs": [
    {
     "name": "stdout",
     "output_type": "stream",
     "text": [
      "[19.95327103  9.69158879 17.38785047 13.96728972]\n"
     ]
    }
   ],
   "source": [
    "E11 = 214*u1*v1\n",
    "E12 = 214*u1*v2\n",
    "E13 = 214*u1*v3\n",
    "E14 = 214*u1*v4\n",
    "row_a = np.array([E11, E12, E13, E14])\n",
    "\n",
    "print(row_a)\n",
    "E21 = 214*u2*v1\n",
    "E22 = 214*u2*v2\n",
    "E23 = 214*u2*v3\n",
    "E24 = 214*u2*v4\n",
    "row_b = np.array([E21, E22, E23, E24])\n",
    "\n",
    "E31 = 214*u3*v1\n",
    "E32 = 214*u3*v2\n",
    "E33 = 214*u3*v3\n",
    "E34 = 214*u3*v4\n",
    "row_c = np.array([E31, E32, E33, E34])\n",
    "\n",
    "E41 = 214*u4*v1\n",
    "E42 = 214*u4*v2\n",
    "E43 = 214*u4*v3\n",
    "E44 = 214*u4*v4\n",
    "row_Other = np.array([E41, E42, E43, E44])\n"
   ]
  },
  {
   "cell_type": "code",
   "execution_count": null,
   "metadata": {},
   "outputs": [
    {
     "data": {
      "text/plain": [
       "A        70.0\n",
       "B        34.0\n",
       "C        61.0\n",
       "Other    49.0\n",
       "dtype: float64"
      ]
     },
     "execution_count": 212,
     "metadata": {},
     "output_type": "execute_result"
    }
   ],
   "source": [
    "expected_frequencies = pd.DataFrame([row_a, row_b, row_c, row_Other], columns=['A','B','C','Other'])\n",
    "expected_frequencies.index = ['A', 'B', 'C', 'Other']\n",
    "expected_frequencies.sum(axis=0) #It worked!!!!\n"
   ]
  },
  {
   "cell_type": "code",
   "execution_count": 213,
   "metadata": {},
   "outputs": [
    {
     "data": {
      "text/html": [
       "<div>\n",
       "<style scoped>\n",
       "    .dataframe tbody tr th:only-of-type {\n",
       "        vertical-align: middle;\n",
       "    }\n",
       "\n",
       "    .dataframe tbody tr th {\n",
       "        vertical-align: top;\n",
       "    }\n",
       "\n",
       "    .dataframe thead th {\n",
       "        text-align: right;\n",
       "    }\n",
       "</style>\n",
       "<table border=\"1\" class=\"dataframe\">\n",
       "  <thead>\n",
       "    <tr style=\"text-align: right;\">\n",
       "      <th></th>\n",
       "      <th>A</th>\n",
       "      <th>B</th>\n",
       "      <th>C</th>\n",
       "      <th>Other</th>\n",
       "    </tr>\n",
       "  </thead>\n",
       "  <tbody>\n",
       "    <tr>\n",
       "      <th>A</th>\n",
       "      <td>19.953271</td>\n",
       "      <td>9.691589</td>\n",
       "      <td>17.387850</td>\n",
       "      <td>13.967290</td>\n",
       "    </tr>\n",
       "    <tr>\n",
       "      <th>B</th>\n",
       "      <td>17.663551</td>\n",
       "      <td>8.579439</td>\n",
       "      <td>15.392523</td>\n",
       "      <td>12.364486</td>\n",
       "    </tr>\n",
       "    <tr>\n",
       "      <th>C</th>\n",
       "      <td>16.355140</td>\n",
       "      <td>7.943925</td>\n",
       "      <td>14.252336</td>\n",
       "      <td>11.448598</td>\n",
       "    </tr>\n",
       "    <tr>\n",
       "      <th>Other</th>\n",
       "      <td>16.028037</td>\n",
       "      <td>7.785047</td>\n",
       "      <td>13.967290</td>\n",
       "      <td>11.219626</td>\n",
       "    </tr>\n",
       "  </tbody>\n",
       "</table>\n",
       "</div>"
      ],
      "text/plain": [
       "               A         B          C      Other\n",
       "A      19.953271  9.691589  17.387850  13.967290\n",
       "B      17.663551  8.579439  15.392523  12.364486\n",
       "C      16.355140  7.943925  14.252336  11.448598\n",
       "Other  16.028037  7.785047  13.967290  11.219626"
      ]
     },
     "execution_count": 213,
     "metadata": {},
     "output_type": "execute_result"
    }
   ],
   "source": [
    "expected_frequencies"
   ]
  },
  {
   "cell_type": "code",
   "execution_count": null,
   "metadata": {},
   "outputs": [
    {
     "data": {
      "text/plain": [
       "9"
      ]
     },
     "execution_count": 217,
     "metadata": {},
     "output_type": "execute_result"
    }
   ],
   "source": [
    "#Parameter of Interest: Correlation between stats and operations research\n",
    "#Null hypothesis: Grades in statistics and operations research are independent \n",
    "#Alternative Hypothesis: Grades in statistics are related to grades in operations research \n",
    "#Test Stastic is Defined in the Text and so I will not define it here. \n",
    "alpha = 0.01\n",
    "r = 4\n",
    "c = 4\n",
    "df = (r-1)*(c-1)\n",
    "#Critical Value = 21.66 with alpha = 0.01 and 9 degrees of freedom"
   ]
  },
  {
   "cell_type": "markdown",
   "metadata": {},
   "source": [
    "#### Turns out, there's a package that will just do all this for you. Oh Well. At least I know I did it right"
   ]
  },
  {
   "cell_type": "code",
   "execution_count": 226,
   "metadata": {},
   "outputs": [
    {
     "name": "stdout",
     "output_type": "stream",
     "text": [
      "Test Statistic: 25.554529759357457\n",
      "p-value: 0.002415264560625207\n",
      "Expected Frequencies:\n",
      " [[19.95327103  9.69158879 17.38785047 13.96728972]\n",
      " [17.6635514   8.57943925 15.39252336 12.36448598]\n",
      " [16.35514019  7.94392523 14.25233645 11.44859813]\n",
      " [16.02803738  7.78504673 13.96728972 11.21962617]]\n"
     ]
    }
   ],
   "source": [
    "# Perform the Chi-Square test\n",
    "chi2, p, dof, expected = chi2_contingency(grades_df)\n",
    "\n",
    "# Output the results\n",
    "print(\"Test Statistic:\", chi2)\n",
    "print(\"p-value:\", p)\n",
    "print(\"Expected Frequencies:\\n\", expected)\n"
   ]
  },
  {
   "cell_type": "markdown",
   "metadata": {},
   "source": [
    "#### Test stat 25.55 > critical 21.66. Therefore, we reject the null, the grades are not independent, the grades are related"
   ]
  },
  {
   "cell_type": "markdown",
   "metadata": {},
   "source": []
  }
 ],
 "metadata": {
  "kernelspec": {
   "display_name": "base",
   "language": "python",
   "name": "python3"
  },
  "language_info": {
   "codemirror_mode": {
    "name": "ipython",
    "version": 3
   },
   "file_extension": ".py",
   "mimetype": "text/x-python",
   "name": "python",
   "nbconvert_exporter": "python",
   "pygments_lexer": "ipython3",
   "version": "3.9.18"
  }
 },
 "nbformat": 4,
 "nbformat_minor": 2
}
