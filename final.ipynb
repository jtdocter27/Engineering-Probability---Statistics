{
 "cells": [
  {
   "cell_type": "code",
   "execution_count": 36,
   "metadata": {},
   "outputs": [],
   "source": [
    "import pandas as pd \n",
    "import numpy as np \n",
    "import matplotlib.pyplot as plt \n",
    "import scipy.stats as stats\n",
    "import seaborn as sns\n",
    "from statsmodels.stats.power import TTestPower\n"
   ]
  },
  {
   "cell_type": "markdown",
   "metadata": {},
   "source": [
    "### Problem 2, Confidence Intervals"
   ]
  },
  {
   "cell_type": "code",
   "execution_count": 3,
   "metadata": {},
   "outputs": [],
   "source": [
    "DO = np.array([1.8, 2.0, 2.1, 1.7, 1.2, 2.3, 2.5, 2.9, 1.6, 2.2])\n",
    "meanDO = np.mean(DO)\n",
    "stdDO = np.std(DO)\n",
    "n = len(DO)"
   ]
  },
  {
   "cell_type": "markdown",
   "metadata": {},
   "source": [
    "#### i)"
   ]
  },
  {
   "cell_type": "code",
   "execution_count": 10,
   "metadata": {},
   "outputs": [
    {
     "name": "stdout",
     "output_type": "stream",
     "text": [
      "95% CI on the mean is: 1.7005472717146222 2.3594527282853783\n"
     ]
    }
   ],
   "source": [
    "t_critical = stats.t.ppf(1- 0.025, df=n-1)\n",
    "CI_mean = np.array((meanDO - t_critical * stdDO / np.sqrt(n), meanDO + t_critical * stdDO / np.sqrt(n)))\n",
    "print('95% CI on the mean is:', CI_mean[0], CI_mean[1])"
   ]
  },
  {
   "cell_type": "markdown",
   "metadata": {},
   "source": [
    "#### ii)"
   ]
  },
  {
   "cell_type": "code",
   "execution_count": 13,
   "metadata": {},
   "outputs": [
    {
     "name": "stdout",
     "output_type": "stream",
     "text": [
      "We would need 13.0 additional measurements\n"
     ]
    }
   ],
   "source": [
    "margin_error = t_critical * stdDO / np.sqrt(n)\n",
    "\n",
    "# New margin of error (10% reduction)\n",
    "new_margin_error = 0.9 * margin_error\n",
    "\n",
    "n_new = (t_critical * stdDO / new_margin_error) ** 2\n",
    "n_new = float(np.ceil(n_new))\n",
    "print('We would need', n_new, 'additional measurements')\n"
   ]
  },
  {
   "cell_type": "markdown",
   "metadata": {},
   "source": [
    "#### iii)"
   ]
  },
  {
   "cell_type": "code",
   "execution_count": 15,
   "metadata": {},
   "outputs": [
    {
     "name": "stdout",
     "output_type": "stream",
     "text": [
      "CI on the median lower bound is 1.29 upper bound is 2.81\n"
     ]
    }
   ],
   "source": [
    "median_DO = np.median(DO)\n",
    "\n",
    "CI_median = np.percentile(DO, [2.5, 97.5])\n",
    "print('CI on the median', 'lower bound is', CI_median[0], 'upper bound is', CI_median[1])"
   ]
  },
  {
   "cell_type": "markdown",
   "metadata": {},
   "source": [
    "#### iv)"
   ]
  },
  {
   "cell_type": "code",
   "execution_count": 16,
   "metadata": {},
   "outputs": [],
   "source": [
    "#Per chapter 8, we use a chi squared distribution to find a confidence interval on the variance"
   ]
  },
  {
   "cell_type": "code",
   "execution_count": 18,
   "metadata": {},
   "outputs": [
    {
     "name": "stdout",
     "output_type": "stream",
     "text": [
      "CI on varaince lower bound is 0.10034817331557347 upper bound is 0.7068980234199121\n"
     ]
    }
   ],
   "source": [
    "# Chi-square critical values for 95% confidence\n",
    "chi2_lower = stats.chi2.ppf(0.025, df=n-1)\n",
    "chi2_upper = stats.chi2.ppf(0.975, df=n-1)\n",
    "\n",
    "# Confidence interval for variance\n",
    "CI_variance = ((n-1) * stdDO**2 / chi2_upper, (n-1) * stdDO**2 / chi2_lower)\n",
    "CI_variance\n",
    "print('CI on varaince', 'lower bound is', CI_variance[0], 'upper bound is', CI_variance[1])"
   ]
  },
  {
   "cell_type": "markdown",
   "metadata": {},
   "source": [
    "#### v)"
   ]
  },
  {
   "cell_type": "code",
   "execution_count": 21,
   "metadata": {},
   "outputs": [
    {
     "name": "stdout",
     "output_type": "stream",
     "text": [
      "As the mean CI of the first set is 1.7, 2.4, and the mean CI of the second set 2.5, 3.2, we can say that with 95% confidence, the mean DO is different between the two sets\n"
     ]
    }
   ],
   "source": [
    "CI2 = (2.5, 3.2)\n",
    "\n",
    "print('As the mean CI of the first set is 1.7, 2.4, and the mean CI of the second set 2.5, 3.2, we can say that with 95% confidence, the mean DO is different between the two sets')"
   ]
  },
  {
   "cell_type": "markdown",
   "metadata": {},
   "source": [
    "### Problem 3: Hypothesis Testing"
   ]
  },
  {
   "cell_type": "code",
   "execution_count": 27,
   "metadata": {},
   "outputs": [
    {
     "data": {
      "image/png": "[encoded data removed]",
      "text/plain": [
       "<Figure size 640x480 with 1 Axes>"
      ]
     },
     "metadata": {},
     "output_type": "display_data"
    }
   ],
   "source": [
    "placebo = [0.90, 0.37, 1.63, 0.83, 0.95, 0.78, 0.86, 0.61, 0.38, 1.97]\n",
    "\n",
    "alcohol = [1.46, 1.45, 1.76, 1.44, 1.11, 3.07, 0.98, 1.27, 2.56, 1.32]\n",
    "stats.probplot(placebo, dist=\"norm\", plot=plt)\n",
    "stats.probplot(alcohol, dist=\"norm\", plot=plt)\n",
    "\n",
    "\n",
    "# Show the plot\n",
    "plt.title(\"Q-Q Plot\")\n",
    "plt.show()\n",
    " "
   ]
  },
  {
   "cell_type": "markdown",
   "metadata": {},
   "source": [
    "#### i) Does it appear that alc. consumption increases reaction time? "
   ]
  },
  {
   "cell_type": "code",
   "execution_count": 30,
   "metadata": {},
   "outputs": [
    {
     "name": "stdout",
     "output_type": "stream",
     "text": [
      "t-statistic: 2.6989405292993194\n",
      "p-value: 0.00764501303496643\n",
      "Reject H0: Alcohol increases reaction time.\n",
      "I ran this with equal and unequal variances, and the result is the same\n"
     ]
    }
   ],
   "source": [
    "#Null Hypothesis: u(alc) = u(placebo) for reaction time\n",
    "#Alternate Hypothesis: u(alc) > u(placebo)\n",
    "#Test Statistic: one tailed t test, we are trying to see if u(alc) > u(placebo)\n",
    "\n",
    "t_stat, p_value = stats.ttest_ind(alcohol, placebo, equal_var=False, alternative='greater')\n",
    "\n",
    "alpha = 0.05  \n",
    "if p_value < alpha:\n",
    "    result = \"Reject H0: Alcohol increases reaction time.\"\n",
    "else:\n",
    "    result = \"Fail to reject H0: No evidence that alcohol increases reaction time.\"\n",
    "\n",
    "print(\"t-statistic:\", t_stat)\n",
    "print(\"p-value:\", p_value)\n",
    "print(result)\n",
    "print('I ran this with equal and unequal variances, and the result is the same')"
   ]
  },
  {
   "cell_type": "markdown",
   "metadata": {},
   "source": [
    "#### ii) Compare your results from (i) with an alternate test. For example, if you chose a nonparametric test in (i) then compare against a similair parametric alternative or vice versa"
   ]
  },
  {
   "cell_type": "code",
   "execution_count": 32,
   "metadata": {},
   "outputs": [],
   "source": [
    "#t test is parametric. Ergo, we'll pick a nonparametric test for this part. Mann-Whitney will be used\n",
    "# because it is a nonparametric test for the difference in two means and is used in the text as a comparison to the t-test"
   ]
  },
  {
   "cell_type": "code",
   "execution_count": 34,
   "metadata": {},
   "outputs": [
    {
     "name": "stdout",
     "output_type": "stream",
     "text": [
      "U-statistic: 85.0\n",
      "p-value (Mann-Whitney): 0.004554248199015482\n",
      "Reject H0: Alcohol increases reaction time (Nonparametric test).\n",
      "While both tests reject the null, Mann-Whitney is slightly more robust, i.e. has a lower p-value\n"
     ]
    }
   ],
   "source": [
    "# Perform the Mann-Whitney U test\n",
    "u_stat, p_value_mw = stats.mannwhitneyu(alcohol, placebo, alternative='greater')\n",
    "\n",
    "if p_value_mw < alpha:\n",
    "    result_mw = \"Reject H0: Alcohol increases reaction time (Nonparametric test).\"\n",
    "else:\n",
    "    result_mw = \"Fail to reject H0: No evidence that alcohol increases reaction time.\"\n",
    "\n",
    "print(\"U-statistic:\", u_stat)\n",
    "print(\"p-value (Mann-Whitney):\", p_value_mw)\n",
    "print(result_mw)\n",
    "print('While both tests reject the null, Mann-Whitney is slightly more robust, i.e. has a lower p-value')"
   ]
  },
  {
   "cell_type": "markdown",
   "metadata": {},
   "source": [
    "### iii) For the dta in problem 2, the mean DO is 2.03. If the mean DO exceeds 2.03 by as much as 0.42, is the sample size n = 10 adequate to ensure that the null\n",
    "### hypothesis, H0: Mu = 2.03 will be rejected with probability of at least 0.8? This is a power of the test question"
   ]
  },
  {
   "cell_type": "code",
   "execution_count": 38,
   "metadata": {},
   "outputs": [
    {
     "name": "stdout",
     "output_type": "stream",
     "text": [
      "Power of the test: 0.6580812845530056\n",
      "The sample size n=10 is not adequate for 80% power.\n",
      "The power of the test for this is 65.8%\n"
     ]
    }
   ],
   "source": [
    "\n",
    "sigma = 0.5  \n",
    "effect_size = 0.42 / sigma\n",
    "\n",
    "# Perform power analysis\n",
    "power_analysis = TTestPower()\n",
    "power = power_analysis.solve_power(effect_size=effect_size, nobs=10, alpha=0.05, alternative='two-sided')\n",
    "\n",
    "print(\"Power of the test:\", power)\n",
    "if power >= 0.8:\n",
    "    print(\"The sample size n=10 is adequate for 80% power.\")\n",
    "else:\n",
    "    print(\"The sample size n=10 is not adequate for 80% power.\")\n",
    "    print('The power of the test for this is 65.8%')\n"
   ]
  },
  {
   "cell_type": "code",
   "execution_count": null,
   "metadata": {},
   "outputs": [],
   "source": []
  }
 ],
 "metadata": {
  "kernelspec": {
   "display_name": "Python 3",
   "language": "python",
   "name": "python3"
  },
  "language_info": {
   "codemirror_mode": {
    "name": "ipython",
    "version": 3
   },
   "file_extension": ".py",
   "mimetype": "text/x-python",
   "name": "python",
   "nbconvert_exporter": "python",
   "pygments_lexer": "ipython3",
   "version": "3.13.0"
  }
 },
 "nbformat": 4,
 "nbformat_minor": 2
}
